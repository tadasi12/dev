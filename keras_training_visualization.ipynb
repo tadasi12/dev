{
 "cells": [
  {
   "cell_type": "markdown",
   "metadata": {},
   "source": [
    "# 学習過程の可視化とパラメーターチューニング – MNIST データ"
   ]
  },
  {
   "cell_type": "markdown",
   "metadata": {},
   "source": [
    "## import"
   ]
  },
  {
   "cell_type": "code",
   "execution_count": 1,
   "metadata": {},
   "outputs": [
    {
     "name": "stderr",
     "output_type": "stream",
     "text": [
      "Using TensorFlow backend.\n"
     ]
    }
   ],
   "source": [
    "from keras.datasets import mnist\n",
    "from keras.layers import Dense, Activation\n",
    "from keras.models import Sequential\n",
    "from keras.optimizers import SGD\n",
    "import matplotlib.pyplot as plt\n",
    "%matplotlib inline"
   ]
  },
  {
   "cell_type": "markdown",
   "metadata": {},
   "source": [
    "## MNISTデータの取得"
   ]
  },
  {
   "cell_type": "code",
   "execution_count": 2,
   "metadata": {},
   "outputs": [
    {
     "name": "stdout",
     "output_type": "stream",
     "text": [
      "(60000, 28, 28) (60000,)\n",
      "(60000, 784) (10000, 784)\n",
      "[0. 0. 0. 0. 0. 1. 0. 0. 0. 0.]\n",
      "[0. 0. 0. 0. 0. 0. 0. 1. 0. 0.]\n"
     ]
    }
   ],
   "source": [
    "# x1 : 入力データ\n",
    "# t1 : 正解データ（ターゲット）\n",
    "# ex1 : 評価用入力データ\n",
    "# et1 : 評価用正解データ（ターゲット）\n",
    "(x1, t1), (ex1, et1) = mnist.load_data()\n",
    "\n",
    "print(x1.shape,t1.shape)\n",
    "\n",
    "# 60000, 28^2 の二次元配列の入力データ x2 と評価用入力 ex2 に変換します。\n",
    "x2 = x1.reshape(len(x1), x1[0].size)\n",
    "ex2 = ex1.reshape(len(ex1), ex1[0].size)\n",
    "print(x2.shape, ex2.shape)\n",
    "\n",
    "# 訓練用ターゲット t1 と評価用ターゲット et1 の両方をスカラー値からベクトル t2, et2 に to_categorical で変換します。\n",
    "from keras.utils import np_utils\n",
    "t2 = np_utils.to_categorical(t1)\n",
    "et2 = np_utils.to_categorical(et1)\n",
    " \n",
    "# 訓練用と評価用から1個づつ表示\n",
    "print(t2[0])\n",
    "print(et2[0])"
   ]
  },
  {
   "cell_type": "code",
   "execution_count": 3,
   "metadata": {},
   "outputs": [],
   "source": [
    "def training(x2, t2, ex2, et2, model, epochs, batch_size):\n",
    "    return model.fit(x2, t2, epochs=epochs, batch_size=batch_size, validation_data=(ex2, et2)) \n",
    "\n",
    "\n",
    "def plot_training(result, epochs):\n",
    "    plt.plot(range(1, epochs+1), result.history['acc'], label=\"training\")\n",
    "    plt.plot(range(1, epochs+1), result.history['val_acc'], label=\"validation\")\n",
    "    plt.xlabel('Epochs')\n",
    "    plt.ylabel('Accuracy')\n",
    "    plt.legend()\n",
    "    plt.show()    "
   ]
  },
  {
   "cell_type": "markdown",
   "metadata": {},
   "source": [
    "## network"
   ]
  },
  {
   "cell_type": "code",
   "execution_count": 8,
   "metadata": {},
   "outputs": [
    {
     "name": "stdout",
     "output_type": "stream",
     "text": [
      "_________________________________________________________________\n",
      "Layer (type)                 Output Shape              Param #   \n",
      "=================================================================\n",
      "dense_13 (Dense)             (None, 30)                23550     \n",
      "_________________________________________________________________\n",
      "activation_13 (Activation)   (None, 30)                0         \n",
      "_________________________________________________________________\n",
      "dense_14 (Dense)             (None, 30)                930       \n",
      "_________________________________________________________________\n",
      "activation_14 (Activation)   (None, 30)                0         \n",
      "_________________________________________________________________\n",
      "dense_15 (Dense)             (None, 30)                930       \n",
      "_________________________________________________________________\n",
      "activation_15 (Activation)   (None, 30)                0         \n",
      "_________________________________________________________________\n",
      "dense_16 (Dense)             (None, 30)                930       \n",
      "_________________________________________________________________\n",
      "activation_16 (Activation)   (None, 30)                0         \n",
      "_________________________________________________________________\n",
      "dense_17 (Dense)             (None, 30)                930       \n",
      "_________________________________________________________________\n",
      "activation_17 (Activation)   (None, 30)                0         \n",
      "_________________________________________________________________\n",
      "dense_18 (Dense)             (None, 30)                930       \n",
      "_________________________________________________________________\n",
      "activation_18 (Activation)   (None, 30)                0         \n",
      "_________________________________________________________________\n",
      "dense_19 (Dense)             (None, 30)                930       \n",
      "_________________________________________________________________\n",
      "activation_19 (Activation)   (None, 30)                0         \n",
      "_________________________________________________________________\n",
      "dense_20 (Dense)             (None, 30)                930       \n",
      "_________________________________________________________________\n",
      "activation_20 (Activation)   (None, 30)                0         \n",
      "_________________________________________________________________\n",
      "dense_21 (Dense)             (None, 30)                930       \n",
      "_________________________________________________________________\n",
      "activation_21 (Activation)   (None, 30)                0         \n",
      "_________________________________________________________________\n",
      "dense_22 (Dense)             (None, 30)                930       \n",
      "_________________________________________________________________\n",
      "activation_22 (Activation)   (None, 30)                0         \n",
      "_________________________________________________________________\n",
      "dense_23 (Dense)             (None, 30)                930       \n",
      "_________________________________________________________________\n",
      "activation_23 (Activation)   (None, 30)                0         \n",
      "_________________________________________________________________\n",
      "dense_24 (Dense)             (None, 10)                310       \n",
      "_________________________________________________________________\n",
      "activation_24 (Activation)   (None, 10)                0         \n",
      "=================================================================\n",
      "Total params: 33,160\n",
      "Trainable params: 33,160\n",
      "Non-trainable params: 0\n",
      "_________________________________________________________________\n"
     ]
    }
   ],
   "source": [
    "n_in = x2[0].size\n",
    "n_out = t2[0].size\n",
    "hidden_layers = 10 #2\n",
    "hidden_units = 30\n",
    "# activation_function='sigmoid'\n",
    "activation_function='relu' # 活性化関数を ReLU にする\n",
    "learning_rate = 0.01\n",
    "\n",
    "# モデル定義\n",
    "np.random.seed(0) # 乱数を固定値で初期化し再現性を持たせる\n",
    "model = Sequential()\n",
    "# 入力層\n",
    "model.add(Dense(hidden_units, input_dim=n_in)) # 入力層から出力するユニット数は隠し層のユニット数と同数に\n",
    "model.add(Activation(activation_function))\n",
    "# 隠し層\n",
    "for _ in range(hidden_layers):\n",
    "    model.add(Dense(hidden_units))\n",
    "    model.add(Activation(activation_function))   \n",
    "# 出力層\n",
    "model.add(Dense(n_out))\n",
    "model.add(Activation('softmax'))\n",
    "# モデル生成\n",
    "model.compile(loss='categorical_crossentropy', optimizer=SGD(lr=learning_rate),metrics=['acc'])\n",
    "model.summary()"
   ]
  },
  {
   "cell_type": "code",
   "execution_count": 5,
   "metadata": {},
   "outputs": [],
   "source": [
    "epochs = 5\n",
    "batch_size = 50"
   ]
  },
  {
   "cell_type": "code",
   "execution_count": 8,
   "metadata": {},
   "outputs": [
    {
     "name": "stdout",
     "output_type": "stream",
     "text": [
      "Train on 60000 samples, validate on 10000 samples\n",
      "Epoch 1/5\n",
      "60000/60000 [==============================] - 72s 1ms/step - loss: 1.5622 - acc: 0.5317 - val_loss: 0.9797 - val_acc: 0.6942\n",
      "Epoch 2/5\n",
      "60000/60000 [==============================] - 52s 860us/step - loss: 1.0545 - acc: 0.6475 - val_loss: 1.1423 - val_acc: 0.6015\n",
      "Epoch 3/5\n",
      "60000/60000 [==============================] - 24s 399us/step - loss: 1.0414 - acc: 0.6463 - val_loss: 0.9650 - val_acc: 0.7007\n",
      "Epoch 4/5\n",
      "60000/60000 [==============================] - 21s 344us/step - loss: 1.0129 - acc: 0.6429 - val_loss: 0.9932 - val_acc: 0.6615\n",
      "Epoch 5/5\n",
      "60000/60000 [==============================] - 28s 464us/step - loss: 0.9407 - acc: 0.6733 - val_loss: 0.8548 - val_acc: 0.6925\n"
     ]
    }
   ],
   "source": [
    "result = training(x2, t2, ex2, et2, model, epochs, batch_size)"
   ]
  },
  {
   "cell_type": "code",
   "execution_count": 23,
   "metadata": {},
   "outputs": [
    {
     "name": "stdout",
     "output_type": "stream",
     "text": [
      "\n",
      "**** RESULT ****\n",
      "[ True  True  True ... False False  True]\n"
     ]
    },
    {
     "data": {
      "text/plain": [
       "0.6904"
      ]
     },
     "execution_count": 23,
     "metadata": {},
     "output_type": "execute_result"
    }
   ],
   "source": [
    "result = model.predict_classes(ex2, batch_size=batch_size)\n",
    "print()\n",
    "print(\"**** RESULT ****\")\n",
    "_, et3 = np.where(et2 > 0) # to_categorical の逆変換\n",
    "print(result == et3)\n",
    "\n",
    "sum(result == et3) / 10000"
   ]
  },
  {
   "cell_type": "markdown",
   "metadata": {},
   "source": [
    "model の metrics_names でどのような評価結果が入っているのかリスト出来ますので確認してみます。"
   ]
  },
  {
   "cell_type": "code",
   "execution_count": 21,
   "metadata": {},
   "outputs": [
    {
     "data": {
      "text/plain": [
       "['loss', 'acc']"
      ]
     },
     "execution_count": 21,
     "metadata": {},
     "output_type": "execute_result"
    }
   ],
   "source": [
    "model.metrics_names"
   ]
  },
  {
   "cell_type": "markdown",
   "metadata": {
    "heading_collapsed": true
   },
   "source": [
    "## 学習を評価する指標"
   ]
  },
  {
   "cell_type": "markdown",
   "metadata": {
    "hidden": true
   },
   "source": [
    "ここまでは実際に分類させた結果を集計して学習の評価を行ってきました。  \n",
    "機械学習の評価の指標には 正解率(accuracy), 適合率(precision), 再現率(recall), が代表的です。\n",
    "\n",
    "これらの指標の計算には、まず結果を4つのパターンに分類します。\n",
    "\n",
    "- 正解が 1 のときに正しく 1 と予測 **真陽性(true positive)**\n",
    "- 正解が 1 のときに誤って 0 と予測 **偽陰性(false negative)**\n",
    "- 正解が 0 のときに誤って 1 と予測 **偽陽性(false positive)**\n",
    "- 正解が 0 のときに正しく 0 と予測 **真陰性(true negative)**\n",
    "\n",
    "機械学習の正しさの指標はこれらの分類を使って計上します。\n",
    "\n",
    "例として「ある病気の場合に**真**になる検査」の場合の分類を表にします。\n",
    "\n",
    "| <i></i>  | 検査で陽性 | 検査で陰性 |\n",
    "|----------|------------|------------|\n",
    "| 実は病気 | 真陽性     | 偽陰性     |\n",
    "| 実は健康 | 偽陽性     | 真陰性     |"
   ]
  },
  {
   "cell_type": "markdown",
   "metadata": {
    "hidden": true
   },
   "source": [
    "### 適合率(precision)\n",
    "\n",
    "適合率は 真陽性 / (真陽性 + 偽陽性) で求められます。\n",
    "\n",
    "前述の表の例で解釈すると「検査で陽性の場合に本当に病気だった確率」と言えます。\n",
    "\n",
    "検査で陽性にもかからず病気ではないケースを最小化するのを目的とするケースで、病気であると予測した結果がいかに正確であるかに焦点をあてた指標です。"
   ]
  },
  {
   "cell_type": "markdown",
   "metadata": {
    "hidden": true
   },
   "source": [
    "### 再現率(recall)\n",
    "\n",
    "計算式は 真陽性 / (真陽性 + 偽陰性) になります。\n",
    "\n",
    "表では「実際に病気だった人が検査で正しく陽性になる確率」と言えます。\n",
    "\n",
    "病気にも関わらず検査で発見されない（陰性になる）ケースを最小化するのを目的としたケースで、実際に真となる状態（病気であること）を漏れずに網羅出来ているかどうかに焦点をあてた指標になります。"
   ]
  },
  {
   "cell_type": "markdown",
   "metadata": {
    "hidden": true
   },
   "source": [
    "### 正解率 (accuracy)\n",
    "\n",
    "(真陽性 + 真陰性) / (真陽性 + 偽陰性 + 偽陽性 + 真陰性) が計算式で、全てのパターンを考慮して「正しかった割合」を計算します。\n",
    "\n",
    "病気と検査の関係の場合、敏感に陽性になるような検査をつくれば再現率は上がりますが、適合率や正解率は下がります。 一方、群衆の中から特定の人を見つけ出すなど、 予測や分類の結果の正しさが何より重視されるケースでは、再現率や正解率より適合率が重視されます。\n",
    "\n",
    "本記事での指標としては accuracy を使いますが、全てのパターンで正解率 (accuracy) を追求するより好ましい指標のケースもあるという点は覚えておきましょう。"
   ]
  },
  {
   "cell_type": "markdown",
   "metadata": {},
   "source": [
    "## Keras 内で評価を測定する\n",
    "モデル作成時にどういう指標を評価するかを metrics パラメータで設定します。\n",
    "\n",
    "デフォルトで損失関数の評価値 ‘loss’ は設定されていますので今回は model.compile 文で正解率 ‘acc’ を追加し model.fit を実行します。\n",
    "\n",
    "[metrics一覧](https://keras.io/ja/metrics/)\n",
    "\n"
   ]
  },
  {
   "cell_type": "code",
   "execution_count": null,
   "metadata": {},
   "outputs": [],
   "source": [
    "# モデル生成\n",
    "model.compile(loss='categorical_crossentropy', optimizer=SGD(lr=learning_rate), metrics=['acc'])"
   ]
  },
  {
   "cell_type": "markdown",
   "metadata": {},
   "source": [
    "ここまで予想や分類といった出力を得るには model.predit_classes を使いましたが、評価データ ex2 と評価ターゲット et2 を使って評価だけを実行する model.evaluate を代わりに実行します。実行すると、前述どおりloss と accuracy の結果を返してくれます。\n",
    "\n",
    "評価データ ex2 と評価ターゲット et2 を使って評価だけを実行する model.evaluate を代わりに実行します。実行すると、前述どおりloss と accuracy の結果を返してくれます。"
   ]
  },
  {
   "cell_type": "code",
   "execution_count": 22,
   "metadata": {},
   "outputs": [
    {
     "name": "stdout",
     "output_type": "stream",
     "text": [
      "10000/10000 [==============================] - 4s 443us/step\n",
      "**** RESULT ****\n",
      "Accuracy =  0.6904\n"
     ]
    }
   ],
   "source": [
    "'''\n",
    "結果評価\n",
    "'''\n",
    "result = model.evaluate(ex2, et2)\n",
    "print(\"**** RESULT ****\")\n",
    "print(\"Accuracy = \", result[1]) # 2つ目が acc"
   ]
  },
  {
   "cell_type": "markdown",
   "metadata": {},
   "source": [
    "## 学習過程の可視化\n",
    "5 回訓練を繰り返した後評価データで 65% に到達しましたが、その途中の経過を数値ではなくグラフで見てみましょう。学習させる model.fit のパラメーターに validation_data という配列で評価データとターゲットを与えておくと、model.fit の返り値の history オブジェクトに epoch 毎の訓練データでの評価と、validation_data での評価とそれぞれの結果を記録してくれます。"
   ]
  },
  {
   "cell_type": "code",
   "execution_count": 27,
   "metadata": {},
   "outputs": [
    {
     "data": {
      "text/plain": [
       "array([7, 2, 1, ..., 9, 8, 6], dtype=int64)"
      ]
     },
     "execution_count": 27,
     "metadata": {},
     "output_type": "execute_result"
    }
   ],
   "source": [
    "result"
   ]
  },
  {
   "cell_type": "code",
   "execution_count": 9,
   "metadata": {},
   "outputs": [
    {
     "data": {
      "image/png": "[encoded data removed]",
      "text/plain": [
       "<matplotlib.figure.Figure at 0x27019a0d198>"
      ]
     },
     "metadata": {},
     "output_type": "display_data"
    }
   ],
   "source": [
    "plot_training(result,epochs)"
   ]
  },
  {
   "cell_type": "markdown",
   "metadata": {},
   "source": [
    "## チューニング"
   ]
  },
  {
   "cell_type": "markdown",
   "metadata": {},
   "source": [
    "### 学習率\n",
    "結果をグラフで見ると訓練データの正確性が3回目以降は低下、評価データの方も向上する傾向が見えない状況となっています。\n",
    "\n",
    "このようになるケースはいろいろありますが、まず考えられるのは訓練データに対して学習しすぎてしまうという 過学習 が考えられます。  \n",
    "また、このケースでは1回目の epoch から評価データで 68% の正確性を出していることから 学習速度が早すぎる 可能性があります。\n",
    "\n",
    "まずは 0.1 に設定してあった learning_rate を 0.01 に落としてみましょう。"
   ]
  },
  {
   "cell_type": "code",
   "execution_count": 10,
   "metadata": {},
   "outputs": [],
   "source": [
    "learning_rate = 0.01 # 学習率を 0.01 に下げる"
   ]
  },
  {
   "cell_type": "code",
   "execution_count": 11,
   "metadata": {},
   "outputs": [
    {
     "name": "stdout",
     "output_type": "stream",
     "text": [
      "Train on 60000 samples, validate on 10000 samples\n",
      "Epoch 1/5\n",
      "60000/60000 [==============================] - 27s 456us/step - loss: 0.8441 - acc: 0.7169 - val_loss: 0.8188 - val_acc: 0.7200\n",
      "Epoch 2/5\n",
      "60000/60000 [==============================] - 24s 396us/step - loss: 0.8193 - acc: 0.7266 - val_loss: 0.7882 - val_acc: 0.7312\n",
      "Epoch 3/5\n",
      "60000/60000 [==============================] - 25s 413us/step - loss: 0.7917 - acc: 0.7372 - val_loss: 0.7807 - val_acc: 0.7392\n",
      "Epoch 4/5\n",
      "60000/60000 [==============================] - 21s 345us/step - loss: 0.7764 - acc: 0.7489 - val_loss: 0.7680 - val_acc: 0.7494\n",
      "Epoch 5/5\n",
      "60000/60000 [==============================] - 21s 345us/step - loss: 0.7519 - acc: 0.7626 - val_loss: 0.7323 - val_acc: 0.7721\n"
     ]
    }
   ],
   "source": [
    "# モデル生成\n",
    "model.compile(loss='categorical_crossentropy', optimizer=SGD(lr=learning_rate), metrics=['acc'])\n",
    "result = training(x2, t2, ex2, et2, model, epochs, batch_size)"
   ]
  },
  {
   "cell_type": "code",
   "execution_count": 12,
   "metadata": {},
   "outputs": [
    {
     "data": {
      "image/png": "[encoded data removed]",
      "text/plain": [
       "<matplotlib.figure.Figure at 0x270210a2c88>"
      ]
     },
     "metadata": {},
     "output_type": "display_data"
    }
   ],
   "source": [
    "plot_training(result,epochs)"
   ]
  },
  {
   "cell_type": "markdown",
   "metadata": {},
   "source": [
    "Accuracy が安定して上昇していく結果になりました。  \n",
    "またグラフを見ますとまだまだ向上し続ける途中の形に読み取れますので、単純に epochs=10 にしてみます。"
   ]
  },
  {
   "cell_type": "code",
   "execution_count": 13,
   "metadata": {},
   "outputs": [
    {
     "name": "stdout",
     "output_type": "stream",
     "text": [
      "Train on 60000 samples, validate on 10000 samples\n",
      "Epoch 1/10\n",
      "60000/60000 [==============================] - 58s 963us/step - loss: 0.7372 - acc: 0.7694 - val_loss: 0.7308 - val_acc: 0.7655\n",
      "Epoch 2/10\n",
      "60000/60000 [==============================] - 49s 824us/step - loss: 0.7206 - acc: 0.7732 - val_loss: 0.6961 - val_acc: 0.7908\n",
      "Epoch 3/10\n",
      "60000/60000 [==============================] - 50s 825us/step - loss: 0.6998 - acc: 0.7912 - val_loss: 0.6761 - val_acc: 0.7950\n",
      "Epoch 4/10\n",
      "60000/60000 [==============================] - 53s 883us/step - loss: 0.6816 - acc: 0.7961 - val_loss: 0.6748 - val_acc: 0.7929\n",
      "Epoch 5/10\n",
      "60000/60000 [==============================] - 64s 1ms/step - loss: 0.6787 - acc: 0.7908 - val_loss: 0.6620 - val_acc: 0.7966\n",
      "Epoch 6/10\n",
      "60000/60000 [==============================] - 16s 262us/step - loss: 0.6641 - acc: 0.7975 - val_loss: 0.6464 - val_acc: 0.8089\n",
      "Epoch 7/10\n",
      "60000/60000 [==============================] - 15s 255us/step - loss: 0.6535 - acc: 0.8039 - val_loss: 0.6400 - val_acc: 0.8114\n",
      "Epoch 8/10\n",
      "60000/60000 [==============================] - 17s 276us/step - loss: 0.6538 - acc: 0.7983 - val_loss: 0.6415 - val_acc: 0.7997\n",
      "Epoch 9/10\n",
      "60000/60000 [==============================] - 16s 264us/step - loss: 0.6492 - acc: 0.8029 - val_loss: 0.6283 - val_acc: 0.8198\n",
      "Epoch 10/10\n",
      "60000/60000 [==============================] - 16s 274us/step - loss: 0.6408 - acc: 0.8090 - val_loss: 0.6208 - val_acc: 0.8207\n"
     ]
    }
   ],
   "source": [
    "epochs = 10\n",
    "result = training(x2, t2, ex2, et2, model, epochs, batch_size)"
   ]
  },
  {
   "cell_type": "code",
   "execution_count": 14,
   "metadata": {},
   "outputs": [
    {
     "data": {
      "image/png": "[encoded data removed]",
      "text/plain": [
       "<matplotlib.figure.Figure at 0x270210b94e0>"
      ]
     },
     "metadata": {},
     "output_type": "display_data"
    }
   ],
   "source": [
    "plot_training(result,epochs)"
   ]
  },
  {
   "cell_type": "markdown",
   "metadata": {},
   "source": [
    "Accuracy は 85%, epoch の 10 回目でグラフも頂上に達してきたように見えます。 このまま epoch を増やしていっても向上するのは僅かですので、別のアプローチでチューニングしてみます。"
   ]
  },
  {
   "cell_type": "markdown",
   "metadata": {},
   "source": [
    "### 中間層追加\n",
    "次に中間層を追加し 10 にしてみます。 hidden_layers=10 に設定を変更し実行します。"
   ]
  },
  {
   "cell_type": "code",
   "execution_count": 6,
   "metadata": {},
   "outputs": [
    {
     "name": "stdout",
     "output_type": "stream",
     "text": [
      "Train on 60000 samples, validate on 10000 samples\n",
      "Epoch 1/10\n",
      "60000/60000 [==============================] - 38s 637us/step - loss: 2.3079 - acc: 0.1101 - val_loss: 2.3014 - val_acc: 0.1135\n",
      "Epoch 2/10\n",
      "60000/60000 [==============================] - 31s 523us/step - loss: 2.3016 - acc: 0.1113 - val_loss: 2.3012 - val_acc: 0.1135\n",
      "Epoch 3/10\n",
      "60000/60000 [==============================] - 29s 484us/step - loss: 2.3017 - acc: 0.1117 - val_loss: 2.3011 - val_acc: 0.1135\n",
      "Epoch 4/10\n",
      "60000/60000 [==============================] - 29s 490us/step - loss: 2.3017 - acc: 0.1122 - val_loss: 2.3015 - val_acc: 0.1135\n",
      "Epoch 5/10\n",
      "60000/60000 [==============================] - 28s 470us/step - loss: 2.3016 - acc: 0.1121 - val_loss: 2.3014 - val_acc: 0.1135\n",
      "Epoch 6/10\n",
      "60000/60000 [==============================] - 47s 777us/step - loss: 2.3017 - acc: 0.1123 - val_loss: 2.3015 - val_acc: 0.1135\n",
      "Epoch 7/10\n",
      "60000/60000 [==============================] - 70s 1ms/step - loss: 2.3017 - acc: 0.1120 - val_loss: 2.3010 - val_acc: 0.1135\n",
      "Epoch 8/10\n",
      "60000/60000 [==============================] - 70s 1ms/step - loss: 2.3017 - acc: 0.1121 - val_loss: 2.3013 - val_acc: 0.1135\n",
      "Epoch 9/10\n",
      "60000/60000 [==============================] - 62s 1ms/step - loss: 2.3017 - acc: 0.1123 - val_loss: 2.3012 - val_acc: 0.1135\n",
      "Epoch 10/10\n",
      "60000/60000 [==============================] - 33s 544us/step - loss: 2.3017 - acc: 0.1119 - val_loss: 2.3016 - val_acc: 0.1135\n"
     ]
    }
   ],
   "source": [
    "epochs = 10\n",
    "result = training(x2, t2, ex2, et2, model, epochs, batch_size)"
   ]
  },
  {
   "cell_type": "code",
   "execution_count": 7,
   "metadata": {},
   "outputs": [
    {
     "data": {
      "image/png": "[encoded data removed]",
      "text/plain": [
       "<matplotlib.figure.Figure at 0x25785fc93c8>"
      ]
     },
     "metadata": {},
     "output_type": "display_data"
    }
   ],
   "source": [
    "plot_training(result,epochs)"
   ]
  },
  {
   "cell_type": "markdown",
   "metadata": {},
   "source": [
    "訓練、評価ともまったく学習出来なくなってしまいました。\n",
    "\n",
    "あらゆる入力値に対して 0 ～ 1 の値を返すシグモイド関数の中間層を重ねたことで、信号の特徴自体が減ってしまう勾配消失問題が発生していた可能性が考えられます。"
   ]
  },
  {
   "cell_type": "markdown",
   "metadata": {},
   "source": [
    "### 活性化関数\n",
    "\n",
    "ステップ関数のようにある閾値以上になると発火しつつ、入力値に応じた線形な値で出力する relu 関数という活性化関数があります。"
   ]
  },
  {
   "cell_type": "code",
   "execution_count": 9,
   "metadata": {},
   "outputs": [
    {
     "name": "stdout",
     "output_type": "stream",
     "text": [
      "Train on 60000 samples, validate on 10000 samples\n",
      "Epoch 1/10\n",
      "60000/60000 [==============================] - 42s 697us/step - loss: 0.6798 - acc: 0.7860 - val_loss: 0.3981 - val_acc: 0.8865\n",
      "Epoch 2/10\n",
      "60000/60000 [==============================] - 31s 522us/step - loss: 0.3075 - acc: 0.9130 - val_loss: 0.2496 - val_acc: 0.9293\n",
      "Epoch 3/10\n",
      "60000/60000 [==============================] - 28s 463us/step - loss: 0.2473 - acc: 0.9286 - val_loss: 0.2325 - val_acc: 0.9336.2474 -\n",
      "Epoch 4/10\n",
      "60000/60000 [==============================] - 30s 492us/step - loss: 0.2129 - acc: 0.9386 - val_loss: 0.2048 - val_acc: 0.9435\n",
      "Epoch 5/10\n",
      "60000/60000 [==============================] - 36s 607us/step - loss: 0.1884 - acc: 0.9465 - val_loss: 0.1999 - val_acc: 0.9451\n",
      "Epoch 6/10\n",
      "60000/60000 [==============================] - 31s 519us/step - loss: 0.1740 - acc: 0.9499 - val_loss: 0.1657 - val_acc: 0.9511\n",
      "Epoch 7/10\n",
      "60000/60000 [==============================] - 31s 516us/step - loss: 0.1663 - acc: 0.9524 - val_loss: 0.1911 - val_acc: 0.9452\n",
      "Epoch 8/10\n",
      "60000/60000 [==============================] - 30s 497us/step - loss: 0.1533 - acc: 0.9567 - val_loss: 0.1683 - val_acc: 0.9538\n",
      "Epoch 9/10\n",
      "60000/60000 [==============================] - 30s 498us/step - loss: 0.1473 - acc: 0.9574 - val_loss: 0.1937 - val_acc: 0.9464\n",
      "Epoch 10/10\n",
      "60000/60000 [==============================] - 36s 603us/step - loss: 0.1371 - acc: 0.9602 - val_loss: 0.1642 - val_acc: 0.9513\n"
     ]
    }
   ],
   "source": [
    "epochs = 10\n",
    "result = training(x2, t2, ex2, et2, model, epochs, batch_size)"
   ]
  },
  {
   "cell_type": "code",
   "execution_count": 10,
   "metadata": {},
   "outputs": [
    {
     "data": {
      "image/png": "[encoded data removed]",
      "text/plain": [
       "<matplotlib.figure.Figure at 0x25787802a20>"
      ]
     },
     "metadata": {},
     "output_type": "display_data"
    }
   ],
   "source": [
    "plot_training(result,epochs)"
   ]
  },
  {
   "cell_type": "markdown",
   "metadata": {},
   "source": [
    "最初は約 85% で頭打ちになっていた学習率をチューニングしたことで約 95% に上げることが出来ました！"
   ]
  },
  {
   "cell_type": "markdown",
   "metadata": {},
   "source": [
    "## 終わりなきパラメーターチューニング\n",
    "\n",
    "今回紹介したチューニングは入口部分をほんの少し覗いただけのもので、実際にはニューラルネットの最初の状態をあらかじめ 0 ではなく適したものに初期化しておくことで性能を高める初期化方法のチューニング、入力データの絶対値的な大きさが学習に影響しないようにする データの正規化、局所最適化に陥ることを防止するための ニューロンのドロップアウト など、 様々なチューニングが必要になります。"
   ]
  },
  {
   "cell_type": "code",
   "execution_count": 18,
   "metadata": {},
   "outputs": [
    {
     "data": {
      "text/html": [
       "<style>table {float:left}</style>"
      ],
      "text/plain": [
       "<IPython.core.display.HTML object>"
      ]
     },
     "metadata": {},
     "output_type": "display_data"
    }
   ],
   "source": [
    "%%html\n",
    "<style>table {float:left}</style>"
   ]
  }
 ],
 "metadata": {
  "kernelspec": {
   "display_name": "Python 3",
   "language": "python",
   "name": "python3"
  },
  "language_info": {
   "codemirror_mode": {
    "name": "ipython",
    "version": 3
   },
   "file_extension": ".py",
   "mimetype": "text/x-python",
   "name": "python",
   "nbconvert_exporter": "python",
   "pygments_lexer": "ipython3",
   "version": "3.6.6"
  },
  "toc": {
   "base_numbering": 1,
   "nav_menu": {},
   "number_sections": true,
   "sideBar": true,
   "skip_h1_title": true,
   "title_cell": "Table of Contents",
   "title_sidebar": "Contents",
   "toc_cell": false,
   "toc_position": {
    "height": "calc(100% - 180px)",
    "left": "10px",
    "top": "150px",
    "width": "273.2px"
   },
   "toc_section_display": true,
   "toc_window_display": true
  },
  "varInspector": {
   "cols": {
    "lenName": 16,
    "lenType": 16,
    "lenVar": 40
   },
   "kernels_config": {
    "python": {
     "delete_cmd_postfix": "",
     "delete_cmd_prefix": "del ",
     "library": "var_list.py",
     "varRefreshCmd": "print(var_dic_list())"
    },
    "r": {
     "delete_cmd_postfix": ") ",
     "delete_cmd_prefix": "rm(",
     "library": "var_list.r",
     "varRefreshCmd": "cat(var_dic_list()) "
    }
   },
   "types_to_exclude": [
    "module",
    "function",
    "builtin_function_or_method",
    "instance",
    "_Feature"
   ],
   "window_display": false
  }
 },
 "nbformat": 4,
 "nbformat_minor": 2
}
