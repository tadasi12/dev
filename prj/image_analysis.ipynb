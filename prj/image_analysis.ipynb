{
 "cells": [
  {
   "cell_type": "markdown",
   "metadata": {},
   "source": [
    "# ヒートマップ"
   ]
  },
  {
   "cell_type": "code",
   "execution_count": null,
   "metadata": {},
   "outputs": [],
   "source": []
  },
  {
   "cell_type": "markdown",
   "metadata": {
    "lang": "en"
   },
   "source": [
    "So the basic idea for plotting a heat map is to visually get some feedback for the probability of a given particular event, You may write your own method which may take probability in range 0-1 and output a color in range (255, 0, 0) - (0, 0, 255). Or Opencv has provision of color-maps. You may be interested in using the COLORMAP_JET:\n",
    "\n",
    "And Now you have to normalize the probability in range 0-255 instead of 0-1 and the you may use cv2.applyColorMap(input_prob, cv2.COLORMAP_JET) to get the desired output."
   ]
  },
  {
   "cell_type": "markdown",
   "metadata": {
    "lang": "ja"
   },
   "source": [
    "ヒートマップをプロットするための基本的な考え方は、特定のイベントの確率に関するフィードバックを視覚的に取得することである。\n",
    "\n",
    "範囲0〜1の確率をとり、範囲（255、0、 0） - （0、0、255）またはOpencvはカラーマップを提供している。 COLORMAP _JETを使用することに興味があるかもしれません。\n",
    "\n",
    "そして今、あなたは0-1の代わりに0-255の範囲で確率を正規化しなければなりません、そしてあなたは希望する出力を得るためにcv2.applyColorMap（input_ prob、cv2.COLORMAP_JET）を使うかもしれません。"
   ]
  },
  {
   "cell_type": "markdown",
   "metadata": {},
   "source": [
    "# サンプルコード"
   ]
  },
  {
   "cell_type": "markdown",
   "metadata": {},
   "source": [
    "# Simple-Python-heatmap\n",
    "\n",
    "[link](https://github.com/Muhamob/Simple-Python-heatmap)"
   ]
  },
  {
   "cell_type": "code",
   "execution_count": 6,
   "metadata": {
    "scrolled": true
   },
   "outputs": [
    {
     "ename": "ImportError",
     "evalue": "DLL load failed: 指定されたモジュールが見つかりません。",
     "output_type": "error",
     "traceback": [
      "\u001b[1;31m---------------------------------------------------------------------------\u001b[0m",
      "\u001b[1;31mImportError\u001b[0m                               Traceback (most recent call last)",
      "\u001b[1;32m<ipython-input-6-79c12a7b2a00>\u001b[0m in \u001b[0;36m<module>\u001b[1;34m\u001b[0m\n\u001b[0;32m      1\u001b[0m \u001b[1;32mimport\u001b[0m \u001b[0mnumpy\u001b[0m \u001b[1;32mas\u001b[0m \u001b[0mnp\u001b[0m\u001b[1;33m\u001b[0m\u001b[1;33m\u001b[0m\u001b[0m\n\u001b[1;32m----> 2\u001b[1;33m \u001b[1;32mimport\u001b[0m \u001b[0mcv2\u001b[0m\u001b[1;33m\u001b[0m\u001b[1;33m\u001b[0m\u001b[0m\n\u001b[0m\u001b[0;32m      3\u001b[0m \u001b[1;31m# use it if you wonna write video or ffmpeg\u001b[0m\u001b[1;33m\u001b[0m\u001b[1;33m\u001b[0m\u001b[1;33m\u001b[0m\u001b[0m\n\u001b[0;32m      4\u001b[0m \u001b[1;31m# from skvideo.io import FFmpegWriter\u001b[0m\u001b[1;33m\u001b[0m\u001b[1;33m\u001b[0m\u001b[1;33m\u001b[0m\u001b[0m\n\u001b[0;32m      5\u001b[0m \u001b[1;33m\u001b[0m\u001b[0m\n",
      "\u001b[1;31mImportError\u001b[0m: DLL load failed: 指定されたモジュールが見つかりません。"
     ]
    }
   ],
   "source": [
    "import numpy as np\n",
    "import cv2\n",
    "# use it if you wonna write video or ffmpeg \n",
    "# from skvideo.io import FFmpegWriter \n",
    "\n",
    "start = 1\n",
    "duration = 10\n",
    "fps = '30'\n",
    "cap = cv2.VideoCapture(0)\n",
    "outfile = 'heatmap.mp4'\n",
    "\n",
    "\n",
    "while True:\n",
    "    try:\n",
    "        _, f = cap.read()\n",
    "        f = cv2.cvtColor(f, cv2.COLOR_BGR2GRAY)\n",
    "        f = cv2.GaussianBlur(f, (11, 11), 2, 2)\n",
    "        cnt = 0\n",
    "        res = 0.05*f\n",
    "        res = res.astype(np.float64)\n",
    "        break\n",
    "    except:\n",
    "        print('s')\n",
    "\n",
    "\n",
    "fgbg = cv2.createBackgroundSubtractorMOG2(history=1, varThreshold=100,\n",
    "                                          detectShadows=True)\n",
    "\n",
    "\n",
    "# writer = FFmpegWriter(outfile, outputdict={'-r': fps})\n",
    "#writer = FFmpegWriter(outfile)\n",
    "\n",
    "kernel = cv2.getStructuringElement(cv2.MORPH_ELLIPSE, (13, 13))\n",
    "cnt = 0\n",
    "sec = 0\n",
    "while True:\n",
    "    # if sec == duration: break\n",
    "    cnt += 1\n",
    "    if cnt % int(fps) == 0:\n",
    "        print(sec)\n",
    "        sec += 1\n",
    "    ret, frame = cap.read()\n",
    "    if not ret: break\n",
    "    fgmask = fgbg.apply(frame, None, 0.01)\n",
    "    gray = cv2.cvtColor(frame, cv2.COLOR_BGR2GRAY)\n",
    "    # if cnt == 30: res\n",
    "    gray = cv2.GaussianBlur(gray, (11, 11), 2, 2)\n",
    "    gray = gray.astype(np.float64)\n",
    "    fgmask = cv2.morphologyEx(fgmask, cv2.MORPH_CLOSE, kernel)\n",
    "    fgmask = fgmask.astype(np.float64)\n",
    "    res += (40 * fgmask + gray) * 0.01\n",
    "    res_show = res / res.max()\n",
    "    res_show = np.floor(res_show * 255)\n",
    "    res_show = res_show.astype(np.uint8)\n",
    "    res_show = cv2.applyColorMap(res_show, cv2.COLORMAP_JET)\n",
    "    cv2.imshow('s', res_show)\n",
    "    # if sec < start: continue\n",
    "#    try:\n",
    "#        writer.writeFrame(res_show)\n",
    "#    except:\n",
    "#        writer.close()\n",
    "#        break\n",
    "    \n",
    "    k = cv2.waitKey(30) & 0xff\n",
    "    if k == 27:\n",
    "        break\n",
    "\n",
    "#writer.close()\n",
    "cap.release()\n",
    "cv2.destroyAllWindows()"
   ]
  },
  {
   "cell_type": "markdown",
   "metadata": {},
   "source": [
    "## QT douga"
   ]
  },
  {
   "cell_type": "code",
   "execution_count": null,
   "metadata": {},
   "outputs": [],
   "source": [
    "import sys\n",
    "from PyQt5 import QtCore, QtGui, QtWidgets\n",
    "import cv2\n",
    "import os, zipfile, datetime\n",
    "now = datetime.datetime.now()\n",
    "dirname = 'test_{0:%Y%m%d}'.format(now)\n",
    "\n",
    "class QtCapture(QtWidgets.QWidget):\n",
    "    def __init__(self, *args):\n",
    "        super(QtWidgets.QWidget, self).__init__()\n",
    "\n",
    "        self.fps = 24\n",
    "        self.cap = cv2.VideoCapture(*args)\n",
    "\n",
    "        self.video_frame = QtWidgets.QLabel()\n",
    "        lay = QtWidgets.QVBoxLayout()\n",
    "        lay.setContentsMargins(0,0,0,0)\n",
    "        lay.addWidget(self.video_frame)\n",
    "        self.setLayout(lay)\n",
    "\n",
    "        # ------ Modification ------ #\n",
    "        self.isCapturing = False\n",
    "        self.ith_frame = 1\n",
    "        # ------ Modification ------ #\n",
    "\n",
    "    def setFPS(self, fps):\n",
    "        self.fps = fps\n",
    "\n",
    "    def nextFrameSlot(self):\n",
    "        ret, frame = self.cap.read()\n",
    "\n",
    "        # ------ Modification ------ #\n",
    "        # Save images if isCapturing\n",
    "        if self.isCapturing:\n",
    "            if not(os.path.isdir(dirname)):\n",
    "                os.mkdir(dirname)\n",
    "            cv2.imwrite('./'+dirname+'/img_%05d.jpg'%self.ith_frame, frame)\n",
    "            self.ith_frame += 1\n",
    "        # ------ Modification ------ #\n",
    "\n",
    "        # My webcam yields frames in BGR format\n",
    "        frame = cv2.cvtColor(frame, cv2.COLOR_BGR2RGB)\n",
    "        img = QtGui.QImage(frame, frame.shape[1], frame.shape[0], QtGui.QImage.Format_RGB888)\n",
    "        pix = QtGui.QPixmap.fromImage(img)\n",
    "        self.video_frame.setPixmap(pix)\n",
    "\n",
    "    def start(self):\n",
    "        self.timer = QtCore.QTimer()\n",
    "        self.timer.timeout.connect(self.nextFrameSlot)\n",
    "        self.timer.start(1000./self.fps)\n",
    "\n",
    "    def stop(self):\n",
    "        self.timer.stop()\n",
    "\n",
    "    # ------ Modification ------ #\n",
    "    def capture(self):\n",
    "        if not self.isCapturing:\n",
    "            self.isCapturing = True\n",
    "        else:\n",
    "            self.isCapturing = False\n",
    "    # ------ Modification ------ #\n",
    "\n",
    "    def deleteLater(self):\n",
    "        self.cap.release()\n",
    "        super(QtWidgets.QWidget, self).deleteLater()\n",
    "\n",
    "\n",
    "class ControlWindow(QtWidgets.QWidget):\n",
    "    def __init__(self):\n",
    "        QtWidgets.QWidget.__init__(self)\n",
    "        self.capture = None\n",
    "\n",
    "        self.start_button = QtWidgets.QPushButton('Start')\n",
    "        self.start_button.clicked.connect(self.startCapture)\n",
    "        self.quit_button = QtWidgets.QPushButton('End')\n",
    "        self.quit_button.clicked.connect(self.endCapture)\n",
    "        self.end_button = QtWidgets.QPushButton('Stop')\n",
    "\n",
    "        # ------ Modification ------ #\n",
    "        self.capture_button = QtWidgets.QPushButton('Capture')\n",
    "        self.capture_button.clicked.connect(self.saveCapture)\n",
    "        # ------ Modification ------ #\n",
    "\n",
    "        vbox = QtWidgets.QVBoxLayout(self)\n",
    "        vbox.addWidget(self.start_button)\n",
    "        vbox.addWidget(self.end_button)\n",
    "        vbox.addWidget(self.quit_button)\n",
    "\n",
    "        # ------ Modification ------ #\n",
    "        vbox.addWidget(self.capture_button)\n",
    "        # ------ Modification ------ #\n",
    "\n",
    "        self.setLayout(vbox)\n",
    "        self.setWindowTitle('Control Panel')\n",
    "        self.setGeometry(100,100,200,200)\n",
    "        self.show()\n",
    "\n",
    "    def startCapture(self):\n",
    "        if not self.capture:\n",
    "            self.capture = QtCapture(0)\n",
    "            self.end_button.clicked.connect(self.capture.stop)\n",
    "            # self.capture.setFPS(1)\n",
    "            self.capture.setParent(self)\n",
    "            self.capture.setWindowFlags(QtCore.Qt.Tool)\n",
    "        self.capture.start()\n",
    "        self.capture.show()\n",
    "\n",
    "    def endCapture(self):\n",
    "        self.capture.deleteLater()\n",
    "        self.capture = None\n",
    "\n",
    "    # ------ Modification ------ #\n",
    "    def saveCapture(self):\n",
    "        if self.capture:\n",
    "            self.capture.capture()\n",
    "    # ------ Modification ------ #\n",
    "\n",
    "\n",
    "\n",
    "if __name__ == '__main__':\n",
    "\n",
    "    import sys\n",
    "    app = QtWidgets.QApplication(sys.argv)\n",
    "    window = ControlWindow()\n",
    "    sys.exit(app.exec_())"
   ]
  },
  {
   "cell_type": "markdown",
   "metadata": {},
   "source": [
    "# その他"
   ]
  },
  {
   "cell_type": "markdown",
   "metadata": {
    "heading_collapsed": true
   },
   "source": [
    "## Anacondaにプロキシ設定をする\n",
    "\n",
    "Anacondaのルートフォルダに.condarcファイルを作成する。\n",
    "\n",
    "- ルートフォルダ環境によって異なるが、下記のいずれになります。\n",
    " - C:\\Users[ユーザー名]\\Anaconda3\n",
    " - C:\\Program Files\\Anaconda3\n",
    " - C:\\Users[ユーザー名]\\AppData\\Local\\Continuum\\anaconda3\n",
    "\n",
    "エクスプローラーから直接「.condarc」ファイルを作成できないので、 \n",
    "先に「condarc」を作成し、コマンドラインでファイル名を.condarc変更する。\n",
    "\n",
    "ren condarc .condarc\n",
    "\n",
    "- .condarcをお好みのテキストエディタで編集し、プロキシの設定を追記します。  \n",
    "\n",
    "    proxy_servers: http: http://[プロキシアドレス]:[ポート番号] https: https://[プロキシアドレス]:[ポート番号] \n",
    "    \n",
    "\n",
    "- コマンドラインから以下のコマンドで設定内容を確認できます。  \n",
    "\n",
    "   conda config --show  \n",
    "   \n",
    "\n",
    "- proxy_serversのところに正しいプロキシであれば設定完了です。"
   ]
  },
  {
   "cell_type": "code",
   "execution_count": null,
   "metadata": {
    "hidden": true
   },
   "outputs": [],
   "source": [
    "-AttributeError "
   ]
  }
 ],
 "metadata": {
  "kernelspec": {
   "display_name": "Python 3",
   "language": "python",
   "name": "python3"
  },
  "language_info": {
   "codemirror_mode": {
    "name": "ipython",
    "version": 3
   },
   "file_extension": ".py",
   "mimetype": "text/x-python",
   "name": "python",
   "nbconvert_exporter": "python",
   "pygments_lexer": "ipython3",
   "version": "3.7.3"
  },
  "nbTranslate": {
   "displayLangs": [
    "ja"
   ],
   "hotkey": "alt-t",
   "langInMainMenu": true,
   "sourceLang": "en",
   "targetLang": "ja",
   "useGoogleTranslate": true
  },
  "toc": {
   "base_numbering": 1,
   "nav_menu": {},
   "number_sections": true,
   "sideBar": true,
   "skip_h1_title": false,
   "title_cell": "Table of Contents",
   "title_sidebar": "Contents",
   "toc_cell": false,
   "toc_position": {},
   "toc_section_display": true,
   "toc_window_display": false
  }
 },
 "nbformat": 4,
 "nbformat_minor": 2
}
