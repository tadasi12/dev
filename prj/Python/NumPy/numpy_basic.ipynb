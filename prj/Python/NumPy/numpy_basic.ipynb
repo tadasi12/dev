{
 "cells": [
  {
   "cell_type": "markdown",
   "metadata": {},
   "source": [
    "# NumPy で行列を作る"
   ]
  },
  {
   "cell_type": "markdown",
   "metadata": {},
   "source": [
    "## N 次元配列を作成する\n",
    "NumPy では、ndarray クラスを用いて、多次元行列を作成することができます。以下コードでは、2×3 の 2 次元の行列を作成します。以下コード中の np.int32 は、配列の要素が 32 bit の整数であることを示しています。"
   ]
  },
  {
   "cell_type": "code",
   "execution_count": 4,
   "metadata": {},
   "outputs": [
    {
     "name": "stdout",
     "output_type": "stream",
     "text": [
      "[[1 2 3]\n",
      " [4 5 6]]\n"
     ]
    }
   ],
   "source": [
    "import numpy as np\n",
    "\n",
    "x = np.array([[1, 2, 3],[4, 5, 6]], np.int32)\n",
    "print(x)"
   ]
  },
  {
   "cell_type": "markdown",
   "metadata": {},
   "source": [
    "## N 次元配列の型・サイズを確認する\n",
    "作成した配列は以下のようにして、型やサイズ（大きさ）を確認できます。\n",
    "\n",
    "2 x 3 行列を作成"
   ]
  },
  {
   "cell_type": "code",
   "execution_count": 7,
   "metadata": {},
   "outputs": [],
   "source": [
    "x = np.array([[1, 2, 3],[4, 5, 6]], np.int32)"
   ]
  },
  {
   "cell_type": "markdown",
   "metadata": {},
   "source": [
    "配列の型を確認"
   ]
  },
  {
   "cell_type": "code",
   "execution_count": 8,
   "metadata": {},
   "outputs": [
    {
     "name": "stdout",
     "output_type": "stream",
     "text": [
      "<class 'numpy.ndarray'>\n"
     ]
    }
   ],
   "source": [
    "print(type(x)) "
   ]
  },
  {
   "cell_type": "markdown",
   "metadata": {},
   "source": [
    "配列の要素の型を確認"
   ]
  },
  {
   "cell_type": "code",
   "execution_count": 9,
   "metadata": {},
   "outputs": [
    {
     "name": "stdout",
     "output_type": "stream",
     "text": [
      "int32\n"
     ]
    }
   ],
   "source": [
    "print(x.dtype)"
   ]
  },
  {
   "cell_type": "markdown",
   "metadata": {},
   "source": [
    "配列のサイズを確認"
   ]
  },
  {
   "cell_type": "code",
   "execution_count": 10,
   "metadata": {},
   "outputs": [
    {
     "name": "stdout",
     "output_type": "stream",
     "text": [
      "(2, 3)\n"
     ]
    }
   ],
   "source": [
    "print(x.shape)"
   ]
  },
  {
   "cell_type": "markdown",
   "metadata": {},
   "source": [
    "# NumPy で行列を操作する"
   ]
  },
  {
   "cell_type": "markdown",
   "metadata": {},
   "source": [
    "## 配列の要素にアクセスする\n",
    "他の言語と同じように添字をりようして値を取得できる。"
   ]
  },
  {
   "cell_type": "code",
   "execution_count": 11,
   "metadata": {},
   "outputs": [],
   "source": [
    "x = np.array([[1, 2, 3],[4, 5, 6]], np.int32)"
   ]
  },
  {
   "cell_type": "markdown",
   "metadata": {},
   "source": [
    "特定の要素の値を取得"
   ]
  },
  {
   "cell_type": "code",
   "execution_count": 14,
   "metadata": {},
   "outputs": [
    {
     "name": "stdout",
     "output_type": "stream",
     "text": [
      "6\n",
      "6\n"
     ]
    }
   ],
   "source": [
    "print(x[1, 2])\n",
    "print(x[1][2])"
   ]
  },
  {
   "cell_type": "markdown",
   "metadata": {},
   "source": [
    "0行目のみを取得"
   ]
  },
  {
   "cell_type": "code",
   "execution_count": 15,
   "metadata": {},
   "outputs": [
    {
     "name": "stdout",
     "output_type": "stream",
     "text": [
      "[1 2 3]\n"
     ]
    }
   ],
   "source": [
    "print(x[0])"
   ]
  },
  {
   "cell_type": "markdown",
   "metadata": {},
   "source": [
    "1行目のみを取得"
   ]
  },
  {
   "cell_type": "code",
   "execution_count": 16,
   "metadata": {},
   "outputs": [
    {
     "name": "stdout",
     "output_type": "stream",
     "text": [
      "[4 5 6]\n"
     ]
    }
   ],
   "source": [
    "print(x[1])"
   ]
  },
  {
   "cell_type": "markdown",
   "metadata": {},
   "source": [
    "## 行列 (配列) の要素にアクセスする (インデックスを利用)\n",
    "\n",
    "a[i:j] のように、: (コロン) で区切り、i 番目の要素 (開始地点) から j 番目の要素 (終了地点) までを切り出して新たな配列を作成できる。"
   ]
  },
  {
   "cell_type": "code",
   "execution_count": 17,
   "metadata": {},
   "outputs": [],
   "source": [
    "x = np.array([0, 1, 2, 3, 4, 5, 6, 7, 8, 9])"
   ]
  },
  {
   "cell_type": "markdown",
   "metadata": {},
   "source": [
    "2番目の要素から7番目の要素までを取得"
   ]
  },
  {
   "cell_type": "code",
   "execution_count": 18,
   "metadata": {},
   "outputs": [
    {
     "name": "stdout",
     "output_type": "stream",
     "text": [
      "[2 3 4 5 6]\n"
     ]
    }
   ],
   "source": [
    "print(x[2:7])"
   ]
  },
  {
   "cell_type": "markdown",
   "metadata": {},
   "source": [
    "a[-N:M] のように、負の数 (マイナス) を使って、配列の後ろから数えて N 番目の要素の値、といった具合で指定することもできる。\n",
    "\n",
    "後ろから 2 番目の要素から、前から 10 番目の要素までを取得"
   ]
  },
  {
   "cell_type": "code",
   "execution_count": 19,
   "metadata": {},
   "outputs": [
    {
     "name": "stdout",
     "output_type": "stream",
     "text": [
      "[8 9]\n"
     ]
    }
   ],
   "source": [
    "print(x[-2:10])"
   ]
  },
  {
   "cell_type": "markdown",
   "metadata": {},
   "source": [
    "## 行列 (配列) の要素にアクセスする (数件飛ばしで取得する) \n",
    "a[i:j:k] のように、2 つの : (コロン) で区切り、i 番目の要素(開始地点)から j 番目の要素(終了地点)まで、k-1 つスキップしながら取得し、新たな配列を作成できる。\n",
    "\n",
    "1 番目の要素から 7 番目の要素まで、1 つスキップしながら取得"
   ]
  },
  {
   "cell_type": "code",
   "execution_count": 22,
   "metadata": {},
   "outputs": [
    {
     "name": "stdout",
     "output_type": "stream",
     "text": [
      "[1 3 5]\n"
     ]
    }
   ],
   "source": [
    "print(x[1:7:2])"
   ]
  },
  {
   "cell_type": "code",
   "execution_count": 23,
   "metadata": {},
   "outputs": [
    {
     "name": "stdout",
     "output_type": "stream",
     "text": [
      "[1 4]\n"
     ]
    }
   ],
   "source": [
    "print(x[1:7:3])"
   ]
  },
  {
   "cell_type": "markdown",
   "metadata": {},
   "source": [
    "## 行列 (配列) の要素にアクセスする (末尾から指定)\n",
    "\n",
    "a[i:] のように、: (コロン) で区切ると、i 番目の要素から最後までの要素を全て抽出する。\n",
    "\n",
    "5 番目の要素から最後の要素までを抽出"
   ]
  },
  {
   "cell_type": "code",
   "execution_count": 24,
   "metadata": {},
   "outputs": [
    {
     "name": "stdout",
     "output_type": "stream",
     "text": [
      "[5 6 7 8 9]\n"
     ]
    }
   ],
   "source": [
    "print(x[5:])"
   ]
  },
  {
   "cell_type": "markdown",
   "metadata": {},
   "source": [
    "## 結合\n",
    " ・np.concatenate()  \n",
    "  ２個以上の配列を軸指定して結合する  \n",
    "　軸指定オプションのaxisはデフォルトが0  \n",
    "　マスクは保存されない\n",
    "\n",
    "vstack, r_はconcatenate(axis=0)と、hstack, c_はconcatenate(axis=1)と同等。"
   ]
  },
  {
   "cell_type": "code",
   "execution_count": 4,
   "metadata": {},
   "outputs": [
    {
     "name": "stdout",
     "output_type": "stream",
     "text": [
      "[[0 1 2]\n",
      " [3 4 5]]\n",
      "[[ 6  7  8]\n",
      " [ 9 10 11]]\n"
     ]
    }
   ],
   "source": [
    "import numpy as np\n",
    "\n",
    "arr1 = np.arange(6).reshape(2, 3)\n",
    "arr2 = np.arange(6, 12).reshape(2, 3)\n",
    "\n",
    "print(arr1)\n",
    "print(arr2)"
   ]
  },
  {
   "cell_type": "code",
   "execution_count": 11,
   "metadata": {},
   "outputs": [
    {
     "name": "stdout",
     "output_type": "stream",
     "text": [
      "[[ 0  1  2]\n",
      " [ 3  4  5]\n",
      " [ 6  7  8]\n",
      " [ 9 10 11]]\n",
      "True\n"
     ]
    }
   ],
   "source": [
    "arr_v1 = np.concatenate((arr1, arr2), axis=0)\n",
    "arr_v2 = np.vstack((arr1, arr2))\n",
    "arr_v3 = np.r_[arr1, arr2]\n",
    "\n",
    "print(arr_v1)\n",
    "print(np.allclose(arr_v1, arr_v2, arr_v3))"
   ]
  },
  {
   "cell_type": "code",
   "execution_count": 13,
   "metadata": {},
   "outputs": [
    {
     "name": "stdout",
     "output_type": "stream",
     "text": [
      "[[ 0  1  2  6  7  8]\n",
      " [ 3  4  5  9 10 11]]\n",
      "True\n"
     ]
    }
   ],
   "source": [
    "arr_h1 = np.concatenate((arr1, arr2), axis=1)\n",
    "arr_h2 = np.hstack((arr1, arr2))\n",
    "arr_h3 = np.c_[arr1, arr2]\n",
    "\n",
    "print(arr_h1)\n",
    "print(np.allclose(arr_h1, arr_h2, arr_h3))"
   ]
  },
  {
   "cell_type": "markdown",
   "metadata": {},
   "source": [
    "・軸axisの指定はすでに存在している軸のみ。  \n",
    "　(Join a sequence of arrays along an existing axis.)  \n",
    "　1次元配列：axis=0  \n",
    "　2次元配列：axis=0, axis=1  \n",
    "　3次元配列：axis=0, axis=1, axis=2  \n",
    "　N次元配列：axis=[0, N)　　0以上N未満"
   ]
  },
  {
   "cell_type": "code",
   "execution_count": 14,
   "metadata": {},
   "outputs": [
    {
     "name": "stdout",
     "output_type": "stream",
     "text": [
      "[1 2 3 4 5 6]\n"
     ]
    },
    {
     "ename": "AxisError",
     "evalue": "axis 1 is out of bounds for array of dimension 1",
     "output_type": "error",
     "traceback": [
      "\u001b[1;31m---------------------------------------------------------------------------\u001b[0m",
      "\u001b[1;31mAxisError\u001b[0m                                 Traceback (most recent call last)",
      "\u001b[1;32m<ipython-input-14-24f65b1b1cf6>\u001b[0m in \u001b[0;36m<module>\u001b[1;34m()\u001b[0m\n\u001b[0;32m      3\u001b[0m \u001b[1;33m\u001b[0m\u001b[0m\n\u001b[0;32m      4\u001b[0m \u001b[0mprint\u001b[0m\u001b[1;33m(\u001b[0m\u001b[0mnp\u001b[0m\u001b[1;33m.\u001b[0m\u001b[0mconcatenate\u001b[0m\u001b[1;33m(\u001b[0m\u001b[1;33m[\u001b[0m\u001b[0mv1\u001b[0m\u001b[1;33m,\u001b[0m \u001b[0mv2\u001b[0m\u001b[1;33m]\u001b[0m\u001b[1;33m,\u001b[0m \u001b[0maxis\u001b[0m\u001b[1;33m=\u001b[0m\u001b[1;36m0\u001b[0m\u001b[1;33m)\u001b[0m\u001b[1;33m)\u001b[0m\u001b[1;33m\u001b[0m\u001b[0m\n\u001b[1;32m----> 5\u001b[1;33m \u001b[0mprint\u001b[0m\u001b[1;33m(\u001b[0m\u001b[0mnp\u001b[0m\u001b[1;33m.\u001b[0m\u001b[0mconcatenate\u001b[0m\u001b[1;33m(\u001b[0m\u001b[1;33m[\u001b[0m\u001b[0mv1\u001b[0m\u001b[1;33m,\u001b[0m \u001b[0mv2\u001b[0m\u001b[1;33m]\u001b[0m\u001b[1;33m,\u001b[0m \u001b[0maxis\u001b[0m\u001b[1;33m=\u001b[0m\u001b[1;36m1\u001b[0m\u001b[1;33m)\u001b[0m\u001b[1;33m)\u001b[0m\u001b[1;33m\u001b[0m\u001b[0m\n\u001b[0m",
      "\u001b[1;31mAxisError\u001b[0m: axis 1 is out of bounds for array of dimension 1"
     ]
    }
   ],
   "source": [
    "v1 = np.array([1, 2, 3])\n",
    "v2 = np.array([4, 5, 6])\n",
    "\n",
    "print(np.concatenate([v1, v2], axis=0))\n",
    "print(np.concatenate([v1, v2], axis=1))"
   ]
  },
  {
   "cell_type": "markdown",
   "metadata": {},
   "source": [
    "・結合の方向にかかわらず、配列の次元が同じでないと結合できない。"
   ]
  },
  {
   "cell_type": "code",
   "execution_count": 15,
   "metadata": {},
   "outputs": [
    {
     "ename": "ValueError",
     "evalue": "all the input arrays must have same number of dimensions",
     "output_type": "error",
     "traceback": [
      "\u001b[1;31m---------------------------------------------------------------------------\u001b[0m",
      "\u001b[1;31mValueError\u001b[0m                                Traceback (most recent call last)",
      "\u001b[1;32m<ipython-input-15-c1babc215a71>\u001b[0m in \u001b[0;36m<module>\u001b[1;34m()\u001b[0m\n\u001b[0;32m      1\u001b[0m \u001b[0ma1\u001b[0m \u001b[1;33m=\u001b[0m \u001b[0mnp\u001b[0m\u001b[1;33m.\u001b[0m\u001b[0marray\u001b[0m\u001b[1;33m(\u001b[0m\u001b[1;33m[\u001b[0m\u001b[1;33m[\u001b[0m\u001b[1;36m1\u001b[0m\u001b[1;33m,\u001b[0m \u001b[1;36m2\u001b[0m\u001b[1;33m,\u001b[0m \u001b[1;36m3\u001b[0m\u001b[1;33m]\u001b[0m\u001b[1;33m,\u001b[0m \u001b[1;33m[\u001b[0m\u001b[1;36m4\u001b[0m\u001b[1;33m,\u001b[0m \u001b[1;36m5\u001b[0m\u001b[1;33m,\u001b[0m \u001b[1;36m6\u001b[0m\u001b[1;33m]\u001b[0m\u001b[1;33m,\u001b[0m \u001b[1;33m[\u001b[0m\u001b[1;36m7\u001b[0m\u001b[1;33m,\u001b[0m \u001b[1;36m8\u001b[0m\u001b[1;33m,\u001b[0m \u001b[1;36m9\u001b[0m\u001b[1;33m]\u001b[0m\u001b[1;33m]\u001b[0m\u001b[1;33m)\u001b[0m \u001b[1;31m# 2次元配列\u001b[0m\u001b[1;33m\u001b[0m\u001b[0m\n\u001b[0;32m      2\u001b[0m \u001b[0ma2\u001b[0m \u001b[1;33m=\u001b[0m \u001b[0mnp\u001b[0m\u001b[1;33m.\u001b[0m\u001b[0marray\u001b[0m\u001b[1;33m(\u001b[0m\u001b[1;33m[\u001b[0m\u001b[1;36m10\u001b[0m\u001b[1;33m,\u001b[0m \u001b[1;36m11\u001b[0m\u001b[1;33m,\u001b[0m \u001b[1;36m12\u001b[0m\u001b[1;33m]\u001b[0m\u001b[1;33m)\u001b[0m                      \u001b[1;31m# 1次元配列\u001b[0m\u001b[1;33m\u001b[0m\u001b[0m\n\u001b[1;32m----> 3\u001b[1;33m \u001b[0mprint\u001b[0m\u001b[1;33m(\u001b[0m\u001b[0mnp\u001b[0m\u001b[1;33m.\u001b[0m\u001b[0mconcatenate\u001b[0m\u001b[1;33m(\u001b[0m\u001b[1;33m[\u001b[0m\u001b[0ma1\u001b[0m\u001b[1;33m,\u001b[0m \u001b[0ma2\u001b[0m\u001b[1;33m]\u001b[0m\u001b[1;33m,\u001b[0m \u001b[0maxis\u001b[0m\u001b[1;33m=\u001b[0m\u001b[1;36m0\u001b[0m\u001b[1;33m)\u001b[0m\u001b[1;33m)\u001b[0m\u001b[1;33m\u001b[0m\u001b[0m\n\u001b[0m",
      "\u001b[1;31mValueError\u001b[0m: all the input arrays must have same number of dimensions"
     ]
    }
   ],
   "source": [
    "a1 = np.array([[1, 2, 3], [4, 5, 6], [7, 8, 9]]) # 2次元配列\n",
    "a2 = np.array([10, 11, 12])                      # 1次元配列\n",
    "print(np.concatenate([a1, a2], axis=0))"
   ]
  },
  {
   "cell_type": "markdown",
   "metadata": {},
   "source": [
    "行列(2次元配列)にベクトル(1次元配列)を結合させるとエラーだが、\n",
    "ベクトルを2次元で表記すると結合できる。"
   ]
  },
  {
   "cell_type": "code",
   "execution_count": 20,
   "metadata": {},
   "outputs": [
    {
     "name": "stdout",
     "output_type": "stream",
     "text": [
      "[[ 1  2  3]\n",
      " [ 4  5  6]\n",
      " [ 7  8  9]\n",
      " [10 11 12]]\n",
      "[[ 1  2  3 10]\n",
      " [ 4  5  6 11]\n",
      " [ 7  8  9 12]]\n"
     ]
    }
   ],
   "source": [
    "a1 = np.array([[1, 2, 3], [4, 5, 6], [7, 8, 9]])\n",
    "a2 = np.array([[10, 11, 12]])   # 2重の[[]]でベクトルを2次元で表記\n",
    "\n",
    "print(np.concatenate([a1, a2], axis=0))\n",
    "print(np.concatenate([a1, a2.T], axis=1))"
   ]
  },
  {
   "cell_type": "markdown",
   "metadata": {},
   "source": [
    "・ベクトル(1次元配列)を行列(2次元配列)に変換する方法"
   ]
  },
  {
   "cell_type": "code",
   "execution_count": 22,
   "metadata": {},
   "outputs": [
    {
     "name": "stdout",
     "output_type": "stream",
     "text": [
      "(3,)\n",
      "[1 2 3]\n",
      "(1, 3)\n",
      "[[1 2 3]]\n",
      "(3, 1)\n",
      "[[1]\n",
      " [2]\n",
      " [3]]\n"
     ]
    }
   ],
   "source": [
    "v1 = np.array([1, 2, 3])\n",
    "print(v1.shape)\n",
    "print(v1)\n",
    "\n",
    "# ndim=1 のベクトルを ndim=2の横ベクトルに変換\n",
    "v2 =np.reshape(v1, (1, v1.shape[0]))\n",
    "print(v2.shape)  # (1, 3)\n",
    "print(v2)        # [[1 2 3]]\n",
    "\n",
    "# ndim=1 のベクトルを ndim=2の縦ベクトルに変換\n",
    "v3 =np.reshape(v1, (v1.shape[0], 1))\n",
    "print(v3.shape)  # (3, 1)\n",
    "print(v3)"
   ]
  },
  {
   "cell_type": "markdown",
   "metadata": {},
   "source": [
    "・shapeが異なっていても結合できるが、結合方向は揃える。"
   ]
  },
  {
   "cell_type": "code",
   "execution_count": 23,
   "metadata": {},
   "outputs": [
    {
     "name": "stdout",
     "output_type": "stream",
     "text": [
      "[[ 1  2  3]\n",
      " [ 4  5  6]\n",
      " [ 7  8  9]\n",
      " [10 11 12]\n",
      " [13 14 15]]\n"
     ]
    },
    {
     "ename": "ValueError",
     "evalue": "all the input array dimensions except for the concatenation axis must match exactly",
     "output_type": "error",
     "traceback": [
      "\u001b[1;31m---------------------------------------------------------------------------\u001b[0m",
      "\u001b[1;31mValueError\u001b[0m                                Traceback (most recent call last)",
      "\u001b[1;32m<ipython-input-23-55b5c8b5a4e3>\u001b[0m in \u001b[0;36m<module>\u001b[1;34m()\u001b[0m\n\u001b[0;32m      3\u001b[0m \u001b[1;33m\u001b[0m\u001b[0m\n\u001b[0;32m      4\u001b[0m \u001b[0mprint\u001b[0m\u001b[1;33m(\u001b[0m\u001b[0mnp\u001b[0m\u001b[1;33m.\u001b[0m\u001b[0mconcatenate\u001b[0m\u001b[1;33m(\u001b[0m\u001b[1;33m[\u001b[0m\u001b[0ma1\u001b[0m\u001b[1;33m,\u001b[0m \u001b[0ma2\u001b[0m\u001b[1;33m]\u001b[0m\u001b[1;33m,\u001b[0m \u001b[0maxis\u001b[0m\u001b[1;33m=\u001b[0m\u001b[1;36m0\u001b[0m\u001b[1;33m)\u001b[0m\u001b[1;33m)\u001b[0m\u001b[1;33m\u001b[0m\u001b[0m\n\u001b[1;32m----> 5\u001b[1;33m \u001b[0mprint\u001b[0m\u001b[1;33m(\u001b[0m\u001b[0mnp\u001b[0m\u001b[1;33m.\u001b[0m\u001b[0mconcatenate\u001b[0m\u001b[1;33m(\u001b[0m\u001b[1;33m[\u001b[0m\u001b[0ma1\u001b[0m\u001b[1;33m,\u001b[0m \u001b[0ma2\u001b[0m\u001b[1;33m]\u001b[0m\u001b[1;33m,\u001b[0m \u001b[0maxis\u001b[0m\u001b[1;33m=\u001b[0m\u001b[1;36m1\u001b[0m\u001b[1;33m)\u001b[0m\u001b[1;33m)\u001b[0m\u001b[1;33m\u001b[0m\u001b[0m\n\u001b[0m",
      "\u001b[1;31mValueError\u001b[0m: all the input array dimensions except for the concatenation axis must match exactly"
     ]
    }
   ],
   "source": [
    "a1 = np.array([[1, 2, 3], [4, 5, 6]])\n",
    "a2 = np.array([[7, 8, 9], [10, 11, 12], [13, 14, 15]])\n",
    "\n",
    "print(np.concatenate([a1, a2], axis=0))\n",
    "print(np.concatenate([a1, a2], axis=1))"
   ]
  },
  {
   "attachments": {
    "20170513132338.png": {
     "image/png": "[encoded data removed]"
    }
   },
   "cell_type": "markdown",
   "metadata": {},
   "source": [
    "## 分割\n",
    "・np.split()  \n",
    "  　第1引数：分割する配列  \n",
    "  　第2引数（indices_or_sections）：  \n",
    "    　　　整数値N : N等分に分割（割り切れない場合はエラー）  \n",
    "    　　　配列 : 各値の位置で分割  \n",
    "  　第3引数：分割する方向  \n",
    "   \n",
    "\n",
    "vsplitはsplit(axis=0)と、hsplitはsplit(axis=1)と同等。\n",
    "![20170513132338.png](attachment:20170513132338.png)"
   ]
  },
  {
   "cell_type": "code",
   "execution_count": 6,
   "metadata": {},
   "outputs": [
    {
     "name": "stdout",
     "output_type": "stream",
     "text": [
      "[[ 0  1  2  3]\n",
      " [ 4  5  6  7]\n",
      " [ 8  9 10 11]]\n"
     ]
    }
   ],
   "source": [
    "import numpy as np\n",
    "\n",
    "arr = np.arange(12).reshape(3, 4)\n",
    "print(arr)"
   ]
  },
  {
   "cell_type": "code",
   "execution_count": 9,
   "metadata": {},
   "outputs": [
    {
     "name": "stdout",
     "output_type": "stream",
     "text": [
      "[[0 1]\n",
      " [4 5]\n",
      " [8 9]]\n",
      "True\n",
      "[[ 2  3]\n",
      " [ 6  7]\n",
      " [10 11]]\n",
      "True\n"
     ]
    }
   ],
   "source": [
    "a, b = np.split(arr, 2, axis=1)\n",
    "a1, b1 = np.hsplit(arr, 2)\n",
    "\n",
    "print(a)\n",
    "print(np.allclose(a,a1))\n",
    "\n",
    "print(b)\n",
    "print(np.allclose(b, b1))"
   ]
  },
  {
   "cell_type": "code",
   "execution_count": null,
   "metadata": {},
   "outputs": [],
   "source": [
    "a, b, c = np.split(arr, [1, 3], axis=1)\n",
    "a, b, c = np.hsplit(arr, [1, 3])\n",
    "\n",
    "print a\n",
    "# [[0]\n",
    "#  [4]\n",
    "#  [8]]\n",
    "\n",
    "print b\n",
    "# [[ 1  2]\n",
    "#  [ 5  6]\n",
    "#  [ 9 10]]\n",
    "\n",
    "print c\n",
    "# [[ 3]\n",
    "#  [ 7]\n",
    "#  [11]]\n",
    "\n",
    "a, b = np.split(arr, [1], axis=0)\n",
    "a, b = np.vsplit(arr, [1])\n",
    "\n",
    "print a\n",
    "# [[0 1 2 3]]\n",
    "\n",
    "print b"
   ]
  },
  {
   "cell_type": "markdown",
   "metadata": {},
   "source": [
    "# NumPyの軸(axis)と次元数(ndim)とは\n",
    "\n",
    "NumPyのndarrayは、NumPy操作をするための多次元配列である。多次元の構造はndarray.shapeで確認することができる。\n",
    "\n",
    "多次元構造を操作するために必須となるのが、軸(axis)を正しく理解する必要がある。多次元の配列構造を処理するために、NumPyの関数の引数には、axisを指定することが出来る場面が多々ある。\n",
    "\n",
    "そのため、ここでは、\n",
    "\n",
    "- 次元数とはなにか\n",
    "- 軸(axis)とは何か\n",
    "- 関数の引数としてaxisを指定すると何が起きているか\n",
    "\n",
    "について解説する。\n",
    "\n",
    "## ndarrayの次元数(ndim)とは何か\n",
    "\n",
    "NumPyの多次元配列であるndarrayは、shapeでその構造を把握することができる。"
   ]
  },
  {
   "cell_type": "code",
   "execution_count": 1,
   "metadata": {},
   "outputs": [
    {
     "data": {
      "text/plain": [
       "(2, 3)"
      ]
     },
     "execution_count": 1,
     "metadata": {},
     "output_type": "execute_result"
    }
   ],
   "source": [
    "import numpy as np\n",
    "\n",
    "a = np.array([[1, 2, 3], [4, 5, 6]])\n",
    "a.shape"
   ]
  },
  {
   "cell_type": "markdown",
   "metadata": {},
   "source": [
    "上記のコードの場合、shapeを見ると2×3の構造をしていることが分かる。"
   ]
  },
  {
   "cell_type": "code",
   "execution_count": 5,
   "metadata": {},
   "outputs": [
    {
     "data": {
      "text/plain": [
       "2"
      ]
     },
     "execution_count": 5,
     "metadata": {},
     "output_type": "execute_result"
    }
   ],
   "source": [
    "a.ndim"
   ]
  },
  {
   "cell_type": "markdown",
   "metadata": {},
   "source": [
    "ndimは多次元配列が何次元の構造をしているのかを意味している。つまり、shapeの要素の数なのでlen(arr.shape)ということになる"
   ]
  },
  {
   "cell_type": "markdown",
   "metadata": {},
   "source": [
    "# NumPy で数学系の関数を使う"
   ]
  },
  {
   "cell_type": "markdown",
   "metadata": {},
   "source": [
    "## 三角関数\n",
    "\n",
    "・ 正弦関数 (sin(x), サイン)　：np.sin(x)  \n",
    "・ 余弦関数 (cos(x), コサイン)　：np.cos(x)  \n",
    "・ 正接関数 (tan(x), タンジェント)　：np.tan(x)  \n",
    "\n",
    "x はラジアンで指定する必要があるため、度はラジアンに変換する必要がある。"
   ]
  },
  {
   "cell_type": "markdown",
   "metadata": {},
   "source": [
    "度からラジアンへ (np.radians)"
   ]
  },
  {
   "cell_type": "code",
   "execution_count": 28,
   "metadata": {},
   "outputs": [
    {
     "name": "stdout",
     "output_type": "stream",
     "text": [
      "0.0\n",
      "[ 0.          0.84147098]\n",
      "0.540302305868\n",
      "[ 1.          0.54030231]\n",
      "1.55740772465\n",
      "[ 0.          1.55740772]\n"
     ]
    }
   ],
   "source": [
    "print(np.sin(0))\n",
    "print(np.sin([0, 1]))\n",
    "\n",
    "print(np.cos(1))\n",
    "print(np.cos([0, 1]))\n",
    " \n",
    "print(np.tan(1))\n",
    "print(np.tan([0, 1]))"
   ]
  },
  {
   "cell_type": "markdown",
   "metadata": {},
   "source": [
    "Matplotlib を利用して、サインカーブを出力することもできる。"
   ]
  },
  {
   "cell_type": "code",
   "execution_count": 29,
   "metadata": {},
   "outputs": [
    {
     "data": {
      "image/png": "[encoded data removed]",
      "text/plain": [
       "<matplotlib.figure.Figure at 0x1c0e3663f98>"
      ]
     },
     "metadata": {},
     "output_type": "display_data"
    }
   ],
   "source": [
    "import matplotlib.pylab as plt\n",
    "\n",
    "x = np.linspace(-np.pi, np.pi, 201)\n",
    "plt.plot(x, np.sin(x))\n",
    "plt.xlabel('Angle [rad]')\n",
    "plt.ylabel('sin(x)')\n",
    "plt.axis('tight')\n",
    "plt.show()"
   ]
  },
  {
   "cell_type": "markdown",
   "metadata": {},
   "source": [
    "## 逆三角関数\n",
    "\n",
    "    ・ 逆正弦関数 (asin(x), アークサイン)　：np.arcsin(x)  \n",
    "    ・ 逆余弦関数 (acos(x), アークコサイン)　：np.arccos(x)  \n",
    "    ・ 逆正接関数 (atan(x), アークタンジェント)　：np.arctan(x) "
   ]
  },
  {
   "cell_type": "code",
   "execution_count": 33,
   "metadata": {},
   "outputs": [
    {
     "name": "stdout",
     "output_type": "stream",
     "text": [
      "1.57079632679\n",
      "[-1.57079633  0.          1.57079633]\n",
      "0.0\n",
      "[ 3.14159265  1.57079633  0.        ]\n",
      "0.785398163397\n",
      "[-0.78539816  0.          0.78539816]\n"
     ]
    }
   ],
   "source": [
    "print(np.arcsin(1))\n",
    "print(np.arcsin([-1, 0, 1]))\n",
    "\n",
    "print(np.arccos(1))\n",
    "print(np.arccos([-1, 0, 1]))\n",
    " \n",
    "print(np.arctan(1))\n",
    "print(np.arctan([-1, 0, 1]))"
   ]
  },
  {
   "cell_type": "markdown",
   "metadata": {},
   "source": [
    "## ラジアン ⇔ 度 の変換\n",
    "\n",
    "NumPy では、np.radians(x), np.deg2rad(x), np.rad2deg(x) 関数で、  \n",
    "弧度法(rad)と度数法 (°) を変換する。  \n",
    "なお、np.radians(x), np.deg2rad(x) の 2 つの関数は同じ結果を返す。"
   ]
  },
  {
   "cell_type": "code",
   "execution_count": 35,
   "metadata": {},
   "outputs": [
    {
     "name": "stdout",
     "output_type": "stream",
     "text": [
      "0.0\n",
      "[ 1.          0.          1.57079633]\n",
      "0.0\n",
      "[ 1.          0.          1.57079633]\n",
      "0.0\n",
      "[ 180.           57.29577951   28.64788976]\n"
     ]
    }
   ],
   "source": [
    "# 度からラジアンへ (np.radians)\n",
    "print(np.radians(0))\n",
    "print(np.radians([np.rad2deg(1), 0, 90]))\n",
    " \n",
    "# 度からラジアンへ (np.deg2rad)\n",
    "print(np.deg2rad(0))\n",
    "print(np.deg2rad([np.rad2deg(1), 0, 90]))\n",
    " \n",
    "# ラジアンから度へ\n",
    "print(np.rad2deg(0))\n",
    "print(np.rad2deg([np.deg2rad(180), 1, 0.5]))"
   ]
  },
  {
   "cell_type": "markdown",
   "metadata": {},
   "source": [
    "## 指数関数、対数関数\n",
    "\n",
    "NumPy には、指数関数として、e(x) を計算する np.exp() があります。"
   ]
  },
  {
   "cell_type": "code",
   "execution_count": 37,
   "metadata": {},
   "outputs": [
    {
     "name": "stdout",
     "output_type": "stream",
     "text": [
      "1.0\n",
      "2.71828182846\n"
     ]
    }
   ],
   "source": [
    "print(np.exp(0))\n",
    "print(np.exp(1))"
   ]
  },
  {
   "cell_type": "markdown",
   "metadata": {},
   "source": [
    "NumPy には、対数関数として以下が定義されています。\n",
    "\n",
    "    ・e が底 (Log_e(x)) の np.log(x)\n",
    "    ・2 が底（Log_2(x)）の np.log2(x)\n",
    "    ・10 が底（Log_10(x)）の np.log10(x)\n",
    "\n",
    "なお、定数 e は、np.e として定義されています。"
   ]
  },
  {
   "cell_type": "code",
   "execution_count": 38,
   "metadata": {},
   "outputs": [
    {
     "name": "stdout",
     "output_type": "stream",
     "text": [
      "2.718281828459045\n",
      "0.0\n",
      "[  0.   1.   2. -inf]\n",
      "1.0\n",
      "[ 0.          1.44269504  2.88539008        -inf]\n",
      "3.0\n",
      "10.0\n"
     ]
    },
    {
     "name": "stderr",
     "output_type": "stream",
     "text": [
      "C:\\ProgramData\\Anaconda3\\lib\\site-packages\\ipykernel_launcher.py:6: RuntimeWarning: divide by zero encountered in log\n",
      "  \n",
      "C:\\ProgramData\\Anaconda3\\lib\\site-packages\\ipykernel_launcher.py:10: RuntimeWarning: divide by zero encountered in log2\n",
      "  # Remove the CWD from sys.path while we load stuff.\n"
     ]
    }
   ],
   "source": [
    "# e を出力\n",
    "print(np.e)\n",
    " \n",
    "# eが底の指数関数 (Log_e(x))\n",
    "print(np.log(1))\n",
    "print(np.log([1, np.e, np.e ** 2, 0]))\n",
    " \n",
    "# 2が底の指数関数 (Log_2(x))\n",
    "print(np.log2(2))\n",
    "print(np.log2([1, np.e, np.e ** 2, 0]))\n",
    " \n",
    "# 10 が底の指数関数 (Log_10(x))\n",
    "print(np.log10(1000))\n",
    "print(np.log10(1e+10))  # 1e+10 = 10,000,000,000"
   ]
  },
  {
   "cell_type": "markdown",
   "metadata": {},
   "source": [
    "## 剰余\n",
    "\n",
    "NumPy で剰余 (割り算の余り) を求めるには、np.mod()があります。"
   ]
  },
  {
   "cell_type": "code",
   "execution_count": 40,
   "metadata": {},
   "outputs": [
    {
     "data": {
      "text/plain": [
       "array([1, 2, 0, 1, 2, 0], dtype=int32)"
      ]
     },
     "execution_count": 40,
     "metadata": {},
     "output_type": "execute_result"
    }
   ],
   "source": [
    "# 配列 [1, 2, 3, 4, 5, 6] の各要素に対する 3 の剰余\n",
    "np.mod([1, 2, 3, 4, 5, 6], 3)"
   ]
  },
  {
   "cell_type": "markdown",
   "metadata": {},
   "source": [
    "なお、配列を用いない場合は、NumPy を利用せず、Python の関数のみで実現可能です。\n"
   ]
  },
  {
   "cell_type": "code",
   "execution_count": 41,
   "metadata": {},
   "outputs": [
    {
     "data": {
      "text/plain": [
       "2"
      ]
     },
     "execution_count": 41,
     "metadata": {},
     "output_type": "execute_result"
    }
   ],
   "source": [
    "5 % 3 # 5 / 3 = 1 余り 2"
   ]
  },
  {
   "cell_type": "markdown",
   "metadata": {},
   "source": [
    "## 四捨五入、切捨て、切り上げ\n",
    "小数を整数に変換する方法としては、いくつかの方法があります。\n",
    "\n",
    "    ・四捨五入 np.round()\n",
    "    ・切り捨て np.trunc()\n",
    "    ・切り捨て np.floor()\n",
    "    ・切り上げ np.ceil()\n",
    "    ・ゼロに近いほうに丸める np.fix()\n"
   ]
  },
  {
   "cell_type": "code",
   "execution_count": null,
   "metadata": {},
   "outputs": [],
   "source": []
  }
 ],
 "metadata": {
  "kernelspec": {
   "display_name": "Python 3",
   "language": "python",
   "name": "python3"
  },
  "language_info": {
   "codemirror_mode": {
    "name": "ipython",
    "version": 3
   },
   "file_extension": ".py",
   "mimetype": "text/x-python",
   "name": "python",
   "nbconvert_exporter": "python",
   "pygments_lexer": "ipython3",
   "version": "3.6.6"
  },
  "toc": {
   "base_numbering": 1,
   "nav_menu": {},
   "number_sections": true,
   "sideBar": true,
   "skip_h1_title": false,
   "title_cell": "Table of Contents",
   "title_sidebar": "Contents",
   "toc_cell": false,
   "toc_position": {
    "height": "512px",
    "left": "116px",
    "top": "142.133px",
    "width": "177px"
   },
   "toc_section_display": true,
   "toc_window_display": true
  }
 },
 "nbformat": 4,
 "nbformat_minor": 2
}
