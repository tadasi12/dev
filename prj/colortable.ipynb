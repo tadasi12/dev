{
 "cells": [
  {
   "cell_type": "markdown",
   "metadata": {},
   "source": [
    "| カラーコード  |  R    |  G \t  |  B    | H \t  | S     |  V    |\n",
    "|:------------:\t|:---:\t|:---:\t|:---:\t|:-:\t|:-:\t|:---:\t|\n",
    "|    #ffffff   \t| 255 \t| 255 \t| 255 \t| 0 \t| 0 \t| 100 \t|\n",
    "|    #f8f8f8   \t| 248 \t| 248 \t| 248 \t| 0 \t| 0 \t| 97  \t|\n",
    "|    #f0f0f0   \t| 240 \t| 240 \t| 240 \t| 0 \t| 0 \t| 94  \t|\n",
    "|    #e8e8e8   \t| 232 \t| 232 \t| 232 \t| 0 \t| 0 \t| 91  \t|\n",
    "|    #e0e0e0   \t| 224 \t| 224 \t| 224 \t| 0 \t| 0 \t| 88  \t|\n",
    "|    #cccccc   \t| 204 \t| 204 \t| 204 \t| 0 \t| 0 \t| 80  \t|\n",
    "|    #999999   \t| 153 \t| 153 \t| 153 \t| 0 \t| 0 \t| 60  \t|\n",
    "|    #666666   \t| 102 \t| 102 \t| 102 \t| 0 \t| 0 \t| 40  \t|\n",
    "\n",
    "https://seiai.ed.jp/t2000/htm3/h01b06.html  \n",
    "https://www.petitmonte.com/javascript/rgb_hsv_convert.html  \n",
    "http://www.tablesgenerator.com/markdown_tables"
   ]
  }
 ],
 "metadata": {
  "kernelspec": {
   "display_name": "Python 3",
   "language": "python",
   "name": "python3"
  },
  "language_info": {
   "codemirror_mode": {
    "name": "ipython",
    "version": 3
   },
   "file_extension": ".py",
   "mimetype": "text/x-python",
   "name": "python",
   "nbconvert_exporter": "python",
   "pygments_lexer": "ipython3",
   "version": "3.6.3"
  }
 },
 "nbformat": 4,
 "nbformat_minor": 2
}
