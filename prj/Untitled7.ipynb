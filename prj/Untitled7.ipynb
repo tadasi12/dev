{
 "cells": [
  {
   "cell_type": "markdown",
   "metadata": {},
   "source": [
    "# タスク管理"
   ]
  },
  {
   "cell_type": "code",
   "execution_count": 6,
   "metadata": {},
   "outputs": [],
   "source": [
    "import pandas\n",
    "from IPython.display import Javascript\n",
    "from IPython.display import HTML\n",
    "\n",
    "import os"
   ]
  },
  {
   "cell_type": "code",
   "execution_count": 7,
   "metadata": {},
   "outputs": [],
   "source": [
    "title_name = 'Tasks'\n",
    "file_name = 'tasks.csv'\n",
    "css_name = '//cdn.datatables.net/1.10.12/css/jquery.dataTables.min.css'\n",
    "js_name = '//cdn.datatables.net/1.10.12/js/jquery.dataTables.min'"
   ]
  },
  {
   "cell_type": "code",
   "execution_count": 8,
   "metadata": {},
   "outputs": [],
   "source": [
    "def read_task():\n",
    "  if os.path.exists(file_name):\n",
    "    return pandas.DataFrame.from_csv(file_name)\n",
    "  else:\n",
    "    return pandas.DataFrame()\n",
    "\n",
    "def save_task(data):\n",
    "  pandas.DataFrame(data).to_csv(file_name)\n",
    "\n",
    "def add_task(name, content):\n",
    "  data = read_task()\n",
    "  df = pandas.DataFrame([{'name':name,'content':content,'status':'new'}], columns = ['name','content','status'])\n",
    "  data = data.append(df, ignore_index=True)\n",
    "  save_task(data)\n",
    "\n",
    "def show_task():\n",
    "  data = read_task()\n",
    "  js = '''\n",
    "    <link rel='stylesheet' type='text/css' href='%s'>\n",
    "    <script>\n",
    "      require.config({\n",
    "        paths: {\n",
    "          dataTables: '%s'\n",
    "        }\n",
    "     });\n",
    "      require(['dataTables'], function(){\n",
    "        $('.dataframe').DataTable();\n",
    "      });\n",
    "    </script>\n",
    "  '''%(css_name, js_name)\n",
    "  return HTML('<h2>%s</h2>'%(title_name) + data.to_html() + js)\n",
    "\n",
    "def update_task(id, **kwargs):\n",
    "  data = read_task()\n",
    "  if kwargs.get('name'):\n",
    "    data['name'][id] = kwargs.get('name')\n",
    "  if kwargs.get('content'):\n",
    "    data['content'][id] = kwargs.get('content')\n",
    "  if kwargs.get('status'):\n",
    "    data['status'][id] = kwargs.get('status')\n",
    "  save_task(data)\n",
    "\n",
    "def delete_task(id):\n",
    "  data = read_task()\n",
    "  data = data.drop(id)\n",
    "  save_task(data)"
   ]
  },
  {
   "cell_type": "code",
   "execution_count": 9,
   "metadata": {},
   "outputs": [
    {
     "data": {
      "text/html": [
       "<h2>Tasks</h2><table border=\"1\" class=\"dataframe\">\n",
       "  <thead>\n",
       "    <tr style=\"text-align: right;\">\n",
       "      <th></th>\n",
       "    </tr>\n",
       "  </thead>\n",
       "  <tbody>\n",
       "  </tbody>\n",
       "</table>\n",
       "    <link rel='stylesheet' type='text/css' href='//cdn.datatables.net/1.10.12/css/jquery.dataTables.min.css'>\n",
       "    <script>\n",
       "      require.config({\n",
       "        paths: {\n",
       "          dataTables: '//cdn.datatables.net/1.10.12/js/jquery.dataTables.min'\n",
       "        }\n",
       "     });\n",
       "      require(['dataTables'], function(){\n",
       "        $('.dataframe').DataTable();\n",
       "      });\n",
       "    </script>\n",
       "  "
      ],
      "text/plain": [
       "<IPython.core.display.HTML object>"
      ]
     },
     "execution_count": 9,
     "metadata": {},
     "output_type": "execute_result"
    }
   ],
   "source": [
    "show_task()"
   ]
  },
  {
   "cell_type": "code",
   "execution_count": null,
   "metadata": {},
   "outputs": [],
   "source": []
  }
 ],
 "metadata": {
  "kernelspec": {
   "display_name": "Python 3",
   "language": "python",
   "name": "python3"
  },
  "language_info": {
   "codemirror_mode": {
    "name": "ipython",
    "version": 3
   },
   "file_extension": ".py",
   "mimetype": "text/x-python",
   "name": "python",
   "nbconvert_exporter": "python",
   "pygments_lexer": "ipython3",
   "version": "3.6.6"
  },
  "toc": {
   "base_numbering": 1,
   "nav_menu": {},
   "number_sections": true,
   "sideBar": false,
   "skip_h1_title": true,
   "title_cell": "Table of Contents",
   "title_sidebar": "Contents",
   "toc_cell": false,
   "toc_position": {},
   "toc_section_display": true,
   "toc_window_display": false
  },
  "varInspector": {
   "cols": {
    "lenName": 16,
    "lenType": 16,
    "lenVar": 40
   },
   "kernels_config": {
    "python": {
     "delete_cmd_postfix": "",
     "delete_cmd_prefix": "del ",
     "library": "var_list.py",
     "varRefreshCmd": "print(var_dic_list())"
    },
    "r": {
     "delete_cmd_postfix": ") ",
     "delete_cmd_prefix": "rm(",
     "library": "var_list.r",
     "varRefreshCmd": "cat(var_dic_list()) "
    }
   },
   "types_to_exclude": [
    "module",
    "function",
    "builtin_function_or_method",
    "instance",
    "_Feature"
   ],
   "window_display": false
  }
 },
 "nbformat": 4,
 "nbformat_minor": 2
}
