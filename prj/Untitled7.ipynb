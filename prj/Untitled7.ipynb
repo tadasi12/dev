{
 "cells": [
  {
   "cell_type": "code",
   "execution_count": 2,
   "metadata": {},
   "outputs": [
    {
     "data": {
      "text/plain": [
       "['prj/images/001.JPG',\n",
       " 'prj/images/002.JPG',\n",
       " 'prj/images/003.JPG',\n",
       " 'prj/images/004.JPG',\n",
       " 'prj/images/005.JPG',\n",
       " 'prj/images/006.JPG',\n",
       " 'prj/images/007.JPG',\n",
       " 'prj/images/008.JPG',\n",
       " 'prj/images/009.JPG',\n",
       " 'prj/images/010.JPG',\n",
       " 'prj/images/011.JPG',\n",
       " 'prj/images/012.JPG',\n",
       " 'prj/images/013.JPG',\n",
       " 'prj/images/014.JPG',\n",
       " 'prj/images/015.JPG',\n",
       " 'prj/images/016.JPG',\n",
       " 'prj/images/017.JPG',\n",
       " 'prj/images/018.JPG',\n",
       " 'prj/images/019.JPG',\n",
       " 'prj/images/020.JPG',\n",
       " 'prj/images/021.JPG',\n",
       " 'prj/images/022.JPG',\n",
       " 'prj/images/023.JPG',\n",
       " 'prj/images/024.JPG',\n",
       " 'prj/images/025.JPG',\n",
       " 'prj/images/020.JPG',\n",
       " 'prj/images/021.JPG',\n",
       " 'prj/images/022.JPG',\n",
       " 'prj/images/023.JPG',\n",
       " 'prj/images/024.JPG',\n",
       " 'prj/images/025.JPG']"
      ]
     },
     "execution_count": 2,
     "metadata": {},
     "output_type": "execute_result"
    }
   ],
   "source": [
    "path1 = 'train.txt'\n",
    "path2 = 'test.txt'\n",
    "\n",
    "with open(path1) as f:\n",
    "    list1 = [s.strip() for s in f.readlines()]\n",
    "\n",
    "with open(path2) as f:\n",
    "    list2 = [s.strip() for s in f.readlines()]\n",
    "\n",
    "list1 += list2\n",
    "list1"
   ]
  },
  {
   "cell_type": "code",
   "execution_count": 4,
   "metadata": {},
   "outputs": [
    {
     "name": "stdout",
     "output_type": "stream",
     "text": [
      "001\n",
      "002\n",
      "003\n",
      "004\n",
      "005\n",
      "006\n",
      "007\n",
      "008\n",
      "009\n",
      "010\n",
      "011\n",
      "012\n",
      "013\n",
      "014\n",
      "015\n",
      "016\n",
      "017\n",
      "018\n",
      "019\n",
      "020\n",
      "021\n",
      "022\n",
      "023\n",
      "024\n",
      "025\n",
      "020\n",
      "021\n",
      "022\n",
      "023\n",
      "024\n",
      "025\n"
     ]
    }
   ],
   "source": [
    "import os\n",
    "\n",
    "for record in list1:\n",
    "    print(os.path.basename(record).split('.')[0])"
   ]
  },
  {
   "cell_type": "code",
   "execution_count": 8,
   "metadata": {},
   "outputs": [
    {
     "data": {
      "text/plain": [
       "'train_copy.txt'"
      ]
     },
     "execution_count": 8,
     "metadata": {},
     "output_type": "execute_result"
    }
   ],
   "source": [
    "import shutil\n",
    "\n",
    "# (コピー元, コピー先)\n",
    "shutil.copyfile(\"train.txt\", \"train_copy.txt\")"
   ]
  }
 ],
 "metadata": {
  "kernelspec": {
   "display_name": "Python 3",
   "language": "python",
   "name": "python3"
  },
  "language_info": {
   "codemirror_mode": {
    "name": "ipython",
    "version": 3
   },
   "file_extension": ".py",
   "mimetype": "text/x-python",
   "name": "python",
   "nbconvert_exporter": "python",
   "pygments_lexer": "ipython3",
   "version": "3.6.3"
  },
  "toc": {
   "base_numbering": 1,
   "nav_menu": {},
   "number_sections": true,
   "sideBar": false,
   "skip_h1_title": true,
   "title_cell": "Table of Contents",
   "title_sidebar": "Contents",
   "toc_cell": false,
   "toc_position": {},
   "toc_section_display": true,
   "toc_window_display": false
  }
 },
 "nbformat": 4,
 "nbformat_minor": 2
}
