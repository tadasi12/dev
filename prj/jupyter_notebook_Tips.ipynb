{
 "cells": [
  {
   "cell_type": "markdown",
   "metadata": {},
   "source": [
    "# Jupyter notebook Tips"
   ]
  },
  {
   "cell_type": "markdown",
   "metadata": {},
   "source": [
    "## dataTable を使う"
   ]
  },
  {
   "cell_type": "markdown",
   "metadata": {},
   "source": [
    "### 通常の table"
   ]
  },
  {
   "cell_type": "code",
   "execution_count": 2,
   "metadata": {},
   "outputs": [],
   "source": [
    "from IPython.display import HTML\n",
    "import re\n",
    "#import qgrid"
   ]
  },
  {
   "cell_type": "code",
   "execution_count": 3,
   "metadata": {},
   "outputs": [
    {
     "data": {
      "application/javascript": [
       "require.config({\n",
       "  paths: {\n",
       "    dataTables: '//cdn.datatables.net/1.10.12/js/jquery.dataTables.min'\n",
       "  }\n",
       "});"
      ],
      "text/plain": [
       "<IPython.core.display.Javascript object>"
      ]
     },
     "metadata": {},
     "output_type": "display_data"
    }
   ],
   "source": [
    "%%javascript\n",
    "require.config({\n",
    "  paths: {\n",
    "    dataTables: '//cdn.datatables.net/1.10.12/js/jquery.dataTables.min'\n",
    "  }\n",
    "});"
   ]
  },
  {
   "cell_type": "code",
   "execution_count": 11,
   "metadata": {},
   "outputs": [
    {
     "data": {
      "text/html": [
       "\n",
       "<link rel=\"stylesheet\" type=\"text/css\" href=\"http://cdn.datatables.net/1.10.12/css/jquery.dataTables.min.css\">\n",
       "<table class=\"display\" id=\"example\"  cellspacing=\"0\" width=\"100%\">\n",
       "  <thead>\n",
       "    <tr>\n",
       "      <th>Name</th>\n",
       "      <th>Position</th>\n",
       "      <th>Office</th>\n",
       "      <th>Age</th>\n",
       "      <th>Start date</th>\n",
       "      <th>Salary</th>\n",
       "    </tr>\n",
       "  <tbody>\n",
       "    <tr>\n",
       "      <td>Tiger Nixon</td>\n",
       "      <td>System Architect</td>\n",
       "      <td>Edinburgh</td>\n",
       "      <td>61</td>\n",
       "      <td>2011/04/25</td>\n",
       "      <td>$320,800</td>\n",
       "    </tr>\n",
       "    <tr>\n",
       "      <td>Garrett Winters</td>\n",
       "      <td>Accountant</td>\n",
       "      <td>Tokyo</td>\n",
       "      <td>63</td>\n",
       "      <td>2011/07/25</td>\n",
       "      <td>$170,750</td>\n",
       "    </tr>\n",
       "    <tr>\n",
       "      <td>Ashton Cox</td>\n",
       "      <td>Junior Technical Author</td>\n",
       "      <td>San Francisco</td>\n",
       "      <td>66</td>\n",
       "      <td>2009/01/12</td>\n",
       "      <td>$86,000</td>\n",
       "    </tr>\n",
       "  </tbody>\n",
       "</table>\n",
       "<script>\n",
       "    require(['dataTables'], function(){\n",
       "        $('#example').DataTable();\n",
       "    });\n",
       "</script>\n"
      ],
      "text/plain": [
       "<IPython.core.display.HTML object>"
      ]
     },
     "execution_count": 11,
     "metadata": {},
     "output_type": "execute_result"
    }
   ],
   "source": [
    "HTML('''\n",
    "<link rel=\"stylesheet\" type=\"text/css\" href=\"http://cdn.datatables.net/1.10.12/css/jquery.dataTables.min.css\">\n",
    "<table class=\"display\" id=\"example\"  cellspacing=\"0\" width=\"100%\">\n",
    "  <thead>\n",
    "    <tr>\n",
    "      <th>Name</th>\n",
    "      <th>Position</th>\n",
    "      <th>Office</th>\n",
    "      <th>Age</th>\n",
    "      <th>Start date</th>\n",
    "      <th>Salary</th>\n",
    "    </tr>\n",
    "  <tbody>\n",
    "    <tr>\n",
    "      <td>Tiger Nixon</td>\n",
    "      <td>System Architect</td>\n",
    "      <td>Edinburgh</td>\n",
    "      <td>61</td>\n",
    "      <td>2011/04/25</td>\n",
    "      <td>$320,800</td>\n",
    "    </tr>\n",
    "    <tr>\n",
    "      <td>Garrett Winters</td>\n",
    "      <td>Accountant</td>\n",
    "      <td>Tokyo</td>\n",
    "      <td>63</td>\n",
    "      <td>2011/07/25</td>\n",
    "      <td>$170,750</td>\n",
    "    </tr>\n",
    "    <tr>\n",
    "      <td>Ashton Cox</td>\n",
    "      <td>Junior Technical Author</td>\n",
    "      <td>San Francisco</td>\n",
    "      <td>66</td>\n",
    "      <td>2009/01/12</td>\n",
    "      <td>$86,000</td>\n",
    "    </tr>\n",
    "  </tbody>\n",
    "</table>\n",
    "<script>\n",
    "    require(['dataTables'], function(){\n",
    "        $('#example').DataTable();\n",
    "    });\n",
    "</script>\n",
    "''')"
   ]
  },
  {
   "cell_type": "markdown",
   "metadata": {},
   "source": [
    "### DataFrame"
   ]
  },
  {
   "cell_type": "code",
   "execution_count": 12,
   "metadata": {
    "scrolled": false
   },
   "outputs": [
    {
     "data": {
      "text/html": [
       "<link rel=\"stylesheet\" type=\"text/css\" href=\"http://cdn.datatables.net/1.10.12/css/jquery.dataTables.min.css\">\n",
       "<table border=\"1\" class=\"dataframe table\" id=\"example1\">\n",
       "  <thead>\n",
       "    <tr style=\"text-align: right;\">\n",
       "      <th></th>\n",
       "      <th>pref</th>\n",
       "      <th>year</th>\n",
       "      <th>img</th>\n",
       "      <th>result</th>\n",
       "    </tr>\n",
       "  </thead>\n",
       "  <tbody>\n",
       "    <tr>\n",
       "      <th>0</th>\n",
       "      <td>千葉</td>\n",
       "      <td>2010</td>\n",
       "      <td><img src=\"whale/images/G0010041.JPG\" /></td>\n",
       "      <td><select name=\"example\"><option value=\"\"></option><option value=\"1\">○</option><option value=\"2\">×</option></select></td>\n",
       "    </tr>\n",
       "    <tr>\n",
       "      <th>1</th>\n",
       "      <td>山口</td>\n",
       "      <td>2011</td>\n",
       "      <td><img src=\"whale/images/G0010042.JPG\" /></td>\n",
       "      <td><select name=\"example\"><option value=\"\"></option><option value=\"1\">○</option><option value=\"2\">×</option></select></td>\n",
       "    </tr>\n",
       "    <tr>\n",
       "      <th>2</th>\n",
       "      <td>岐阜</td>\n",
       "      <td>2012</td>\n",
       "      <td><img src=\"whale/images/G0010043.JPG\" /></td>\n",
       "      <td><select name=\"example\"><option value=\"\"></option><option value=\"1\">○</option><option value=\"2\">×</option></select></td>\n",
       "    </tr>\n",
       "    <tr>\n",
       "      <th>3</th>\n",
       "      <td>東京</td>\n",
       "      <td>2013</td>\n",
       "      <td><img src=\"whale/images/G0010044.JPG\" /></td>\n",
       "      <td><select name=\"example\"><option value=\"\"></option><option value=\"1\">○</option><option value=\"2\">×</option></select></td>\n",
       "    </tr>\n",
       "  </tbody>\n",
       "</table>\n",
       "<script>\n",
       "    require(['dataTables'], function(){\n",
       "        /* Create an array with the values of all the select options in a column */\n",
       "        $.fn.dataTable.ext.order['dom-select'] = function ( settings, col ) { \n",
       "            return this.api().column( col, {order:'index'} ).nodes().map( function ( td, i ) {\n",
       "                return $('select', td).val();\n",
       "            });\n",
       "        }    \n",
       "        table = $('#example1').DataTable({\n",
       "            \"columnDefs\": [\n",
       "                {\n",
       "                    \"targets\": 4,\n",
       "                    \"orderDataType\": \"dom-select\"\n",
       "                }\n",
       "            ]             \n",
       "        });\n",
       "    });\n",
       "</script>\n"
      ],
      "text/plain": [
       "<IPython.core.display.HTML object>"
      ]
     },
     "execution_count": 12,
     "metadata": {},
     "output_type": "execute_result"
    }
   ],
   "source": [
    "import pandas as pd\n",
    "\n",
    "img_tag =\"\"\"<img src=\"whale/images/{}\" />\"\"\"\n",
    "select_tag=\"\"\"<select name=\"example\"><option value=\"\"></option><option value=\"1\">○</option><option value=\"2\">×</option></select>\"\"\"\n",
    "\n",
    "html_template = \"\"\"<link rel=\"stylesheet\" type=\"text/css\" href=\"http://cdn.datatables.net/1.10.12/css/jquery.dataTables.min.css\">\n",
    "{}\n",
    "<script>\n",
    "    require(['dataTables'], function(){{\n",
    "        /* Create an array with the values of all the select options in a column */\n",
    "        $.fn.dataTable.ext.order['dom-select'] = function ( settings, col ) {{ \n",
    "            return this.api().column( col, {{order:'index'}} ).nodes().map( function ( td, i ) {{\n",
    "                return $('select', td).val();\n",
    "            }});\n",
    "        }}    \n",
    "        table = $('#example1').DataTable({{\n",
    "            \"columnDefs\": [\n",
    "                {{\n",
    "                    \"targets\": 4,\n",
    "                    \"orderDataType\": \"dom-select\"\n",
    "                }}\n",
    "            ]             \n",
    "        }});\n",
    "    }});\n",
    "</script>\n",
    "\"\"\"\n",
    "\n",
    "data = {\"year\": [2010, 2011, 2012, 2013],\n",
    "        \"pref\":[\"千葉\", \"山口\", \"岐阜\", \"東京\"]       \n",
    "       }\n",
    "df = pd.DataFrame(data)\n",
    "pd.set_option(\"display.max_colwidth\", 120)\n",
    "\n",
    "img_list = ['G0010041.JPG', 'G0010042.JPG', 'G0010043.JPG', 'G0010044.JPG']\n",
    "img_list = [ img_tag.format(row) for row in img_list ] # [counter for counter in iterator]\n",
    "\n",
    "df['img'] = img_list\n",
    "df['result'] = select_tag\n",
    "\n",
    "table =  re.sub(' example', '\" id=\"example1', df.to_html(classes=['table', 'example'], escape=False)) # df.to_html(classes=\"table\", escape=False)\n",
    "html = html_template.format(table)  \n",
    "\n",
    "HTML( html )"
   ]
  },
  {
   "cell_type": "code",
   "execution_count": 14,
   "metadata": {},
   "outputs": [
    {
     "data": {
      "text/html": [
       "<link rel=\"stylesheet\" type=\"text/css\" href=\"http://cdn.datatables.net/1.10.12/css/jquery.dataTables.min.css\">\n",
       "<table border=\"1\" class=\"dataframe\" id=\"example2\">\n",
       "  <thead>\n",
       "    <tr style=\"text-align: right;\">\n",
       "      <th></th>\n",
       "      <th>pref</th>\n",
       "      <th>year</th>\n",
       "      <th>img</th>\n",
       "      <th>result</th>\n",
       "    </tr>\n",
       "  </thead>\n",
       "  <tbody>\n",
       "    <tr>\n",
       "      <th>0</th>\n",
       "      <td>千葉</td>\n",
       "      <td>2010</td>\n",
       "      <td><img src=\"whale/images/G0010041.JPG\" /></td>\n",
       "      <td><select name=\"example\"><option value=\"\"></option><option value=\"1\">○</option><option value=\"2\">×</option></select></td>\n",
       "    </tr>\n",
       "    <tr>\n",
       "      <th>1</th>\n",
       "      <td>山口</td>\n",
       "      <td>2011</td>\n",
       "      <td><img src=\"whale/images/G0010042.JPG\" /></td>\n",
       "      <td><select name=\"example\"><option value=\"\"></option><option value=\"1\">○</option><option value=\"2\">×</option></select></td>\n",
       "    </tr>\n",
       "    <tr>\n",
       "      <th>2</th>\n",
       "      <td>岐阜</td>\n",
       "      <td>2012</td>\n",
       "      <td><img src=\"whale/images/G0010043.JPG\" /></td>\n",
       "      <td><select name=\"example\"><option value=\"\"></option><option value=\"1\">○</option><option value=\"2\">×</option></select></td>\n",
       "    </tr>\n",
       "    <tr>\n",
       "      <th>3</th>\n",
       "      <td>東京</td>\n",
       "      <td>2013</td>\n",
       "      <td><img src=\"whale/images/G0010044.JPG\" /></td>\n",
       "      <td><select name=\"example\"><option value=\"\"></option><option value=\"1\">○</option><option value=\"2\">×</option></select></td>\n",
       "    </tr>\n",
       "  </tbody>\n",
       "</table>\n",
       "<script>\n",
       "    require(['dataTables'], function(){\n",
       "        /* Create an array with the values of all the select options in a column */\n",
       "        $.fn.dataTable.ext.order['dom-select'] = function ( settings, col ) { \n",
       "            return this.api().column( col, {order:'index'} ).nodes().map( function ( td, i ) {\n",
       "                return $('select', td).val();\n",
       "            });\n",
       "        }    \n",
       "        table = $('#example2').DataTable({\n",
       "            \"columnDefs\": [\n",
       "                {\n",
       "                    \"targets\": 4,\n",
       "                    \"orderDataType\": \"dom-select\"\n",
       "                }\n",
       "            ]             \n",
       "        });\n",
       "    });\n",
       "</script>\n"
      ],
      "text/plain": [
       "<IPython.core.display.HTML object>"
      ]
     },
     "execution_count": 14,
     "metadata": {},
     "output_type": "execute_result"
    }
   ],
   "source": [
    "import pandas as pd\n",
    "\n",
    "img_tag =\"\"\"<img src=\"whale/images/{}\" />\"\"\"\n",
    "select_tag=\"\"\"<select name=\"example\"><option value=\"\"></option><option value=\"1\">○</option><option value=\"2\">×</option></select>\"\"\"\n",
    "\n",
    "html_template = \"\"\"<link rel=\"stylesheet\" type=\"text/css\" href=\"http://cdn.datatables.net/1.10.12/css/jquery.dataTables.min.css\">\n",
    "{}\n",
    "<script>\n",
    "    require(['dataTables'], function(){{\n",
    "        /* Create an array with the values of all the select options in a column */\n",
    "        $.fn.dataTable.ext.order['dom-select'] = function ( settings, col ) {{ \n",
    "            return this.api().column( col, {{order:'index'}} ).nodes().map( function ( td, i ) {{\n",
    "                return $('select', td).val();\n",
    "            }});\n",
    "        }}    \n",
    "        table = $('#example2').DataTable({{\n",
    "            \"columnDefs\": [\n",
    "                {{\n",
    "                    \"targets\": 4,\n",
    "                    \"orderDataType\": \"dom-select\"\n",
    "                }}\n",
    "            ]             \n",
    "        }});\n",
    "    }});\n",
    "</script>\n",
    "\"\"\"\n",
    "\n",
    "data = {\"year\": [2010, 2011, 2012, 2013],\n",
    "        \"pref\":[\"千葉\", \"山口\", \"岐阜\", \"東京\"]       \n",
    "       }\n",
    "df = pd.DataFrame(data)\n",
    "pd.set_option(\"display.max_colwidth\", 120)\n",
    "\n",
    "img_list = ['G0010041.JPG', 'G0010042.JPG', 'G0010043.JPG', 'G0010044.JPG']\n",
    "img_list = [ img_tag.format(row) for row in img_list ] # [counter for counter in iterator]\n",
    "\n",
    "df['img'] = img_list\n",
    "df['result'] = select_tag\n",
    "\n",
    "table =  re.sub(' example2', '\" id=\"example2', df.to_html(classes=['example2'], escape=False)) # df.to_html(classes=\"table\", escape=False)\n",
    "html = html_template.format(table)  \n",
    "\n",
    "HTML( html )"
   ]
  },
  {
   "cell_type": "code",
   "execution_count": null,
   "metadata": {},
   "outputs": [],
   "source": []
  }
 ],
 "metadata": {
  "kernelspec": {
   "display_name": "Python 3",
   "language": "python",
   "name": "python3"
  },
  "language_info": {
   "codemirror_mode": {
    "name": "ipython",
    "version": 3
   },
   "file_extension": ".py",
   "mimetype": "text/x-python",
   "name": "python",
   "nbconvert_exporter": "python",
   "pygments_lexer": "ipython3",
   "version": "3.6.6"
  },
  "toc": {
   "base_numbering": 1,
   "nav_menu": {},
   "number_sections": true,
   "sideBar": true,
   "skip_h1_title": true,
   "title_cell": "Table of Contents",
   "title_sidebar": "Contents",
   "toc_cell": false,
   "toc_position": {
    "height": "calc(100% - 180px)",
    "left": "10px",
    "top": "150px",
    "width": "273.2px"
   },
   "toc_section_display": true,
   "toc_window_display": true
  }
 },
 "nbformat": 4,
 "nbformat_minor": 2
}
