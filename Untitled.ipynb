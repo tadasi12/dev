{
 "cells": [
  {
   "cell_type": "code",
   "execution_count": 35,
   "metadata": {},
   "outputs": [
    {
     "name": "stdout",
     "output_type": "stream",
     "text": [
      "13\n"
     ]
    },
    {
     "data": {
      "image/png": "[encoded data removed]",
      "text/plain": [
       "<matplotlib.figure.Figure at 0x1c751438f60>"
      ]
     },
     "metadata": {},
     "output_type": "display_data"
    },
    {
     "data": {
      "text/plain": [
       "(<matplotlib.axes._subplots.AxesSubplot at 0x1c74dc780f0>,\n",
       " Text(0.5,1,'result'),\n",
       " <matplotlib.image.AxesImage at 0x1c750077978>,\n",
       " None)"
      ]
     },
     "execution_count": 35,
     "metadata": {},
     "output_type": "execute_result"
    }
   ],
   "source": [
    "import cv2, matplotlib\n",
    "import numpy as np\n",
    "import matplotlib.pyplot as plt\n",
    "\n",
    "%matplotlib inline\n",
    "\n",
    "#画像読込\n",
    "in_img1 = cv2.imread(\"tmp.png\", -1) \n",
    "\n",
    "#グレイ画像へ変換\n",
    "gray_img = cv2.cvtColor(in_img1, cv2.COLOR_BGR2GRAY)\n",
    "#２値化\n",
    "ret,thresh = cv2.threshold(gray_img, 0, 255,0)\n",
    "\n",
    "#輪郭抽出\n",
    "image, contours, hierarchy = cv2.findContours(thresh, cv2.RETR_TREE, cv2.CHAIN_APPROX_SIMPLE)\n",
    "\n",
    "print(len(contours))\n",
    "\n",
    "# find contours of large enough area\n",
    "min_area = 60\n",
    "\n",
    "maxArea = 0\n",
    "contour \n",
    "def max(cnt):\n",
    "    area = cv2.contourArea(cnt)\n",
    "    global maxArea\n",
    "    global contour\n",
    "    if area > maxArea:\n",
    "        maxArea = area\n",
    "        contour = cnt\n",
    "\n",
    "[max(cnt) for cnt in contours]\n",
    "\n",
    "#large_contours = [cnt for cnt in contours]\n",
    "\n",
    "# create copy of image to draw bounding boxes\n",
    "bounding_img = np.copy(in_img1)\n",
    "\n",
    "x, y, w, h = cv2.boundingRect(contour)\n",
    "cv2.rectangle(bounding_img, (x, y), (x + w, y + h), (0, 255, 0), 3)\n",
    "\n",
    "# for each contour find bounding box and draw rectangle\n",
    "# for contour in large_contours:\n",
    "#     x, y, w, h = cv2.boundingRect(contour)\n",
    "#     cv2.rectangle(bounding_img, (x, y), (x + w, y + h), (0, 255, 0), 3)\n",
    "\n",
    "#OpenCVがBGRなのでRGBに変換\n",
    "disp_out_img1 = cv2.cvtColor(bounding_img, cv2.COLOR_BGR2RGB)\n",
    "\n",
    "cv2.imwrite('result.png', disp_out_img1)\n",
    "\n",
    "#画像表示\n",
    "plt.subplots(figsize=(16, 12))\n",
    "plt.subplot(1, 2, 1), plt.title('src'), plt.imshow(in_img1)\n",
    "plt.subplot(1, 2, 2), plt.title('result'), plt.imshow(disp_out_img1), plt.show()"
   ]
  },
  {
   "cell_type": "code",
   "execution_count": null,
   "metadata": {
    "collapsed": true
   },
   "outputs": [],
   "source": []
  }
 ],
 "metadata": {
  "kernelspec": {
   "display_name": "Python 3",
   "language": "python",
   "name": "python3"
  },
  "language_info": {
   "codemirror_mode": {
    "name": "ipython",
    "version": 3
   },
   "file_extension": ".py",
   "mimetype": "text/x-python",
   "name": "python",
   "nbconvert_exporter": "python",
   "pygments_lexer": "ipython3",
   "version": "3.6.3"
  }
 },
 "nbformat": 4,
 "nbformat_minor": 2
}
