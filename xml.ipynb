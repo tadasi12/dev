{
 "cells": [
  {
   "cell_type": "code",
   "execution_count": 2,
   "metadata": {
    "collapsed": true
   },
   "outputs": [],
   "source": [
    "import cv2\n",
    "import numpy as np\n",
    "from matplotlib import pyplot as plt"
   ]
  },
  {
   "cell_type": "code",
   "execution_count": 6,
   "metadata": {},
   "outputs": [
    {
     "name": "stdout",
     "output_type": "stream",
     "text": [
      "\n",
      "<rss version=\"2.0\">\n",
      "    <channel>\n",
      "        <title>title</title>\n",
      "        <link>link</link>\n",
      "        <description>desctiption</description>\n",
      "        <language>ja</language>\n",
      "    </channel>\n",
      "</rss>\n",
      "\n",
      "<?xml version=\"1.0\" ?><rss version=\"2.0\">\n",
      "    <channel>\n",
      "        <title>title</title>\n",
      "        <link>link</link>\n",
      "        <description>desctiption</description>\n",
      "        <language>ja</language>\n",
      "    <item><subnode key=\"value\">日本語もOK</subnode></item></channel>\n",
      "</rss>\n"
     ]
    }
   ],
   "source": [
    "from xml.dom.minidom import parseString\n",
    "\n",
    "xml_template = \"\"\"\n",
    "<rss version=\\\"2.0\\\">\n",
    "    <channel>\n",
    "        <title>title</title>\n",
    "        <link>link</link>\n",
    "        <description>desctiption</description>\n",
    "        <language>ja</language>\n",
    "    </channel>\n",
    "</rss>\n",
    "\"\"\"\n",
    "print(xml_template)\n",
    "dom = parseString(xml_template)\n",
    "\n",
    "# channelノードを取得\n",
    "channel = dom.getElementsByTagName(\"channel\")[0]\n",
    "\n",
    "# itemノードを生成\n",
    "item = dom.createElement('item')\n",
    "# channelノードに追加\n",
    "channel.appendChild(item)\n",
    "\n",
    "# サブノードの生成\n",
    "subnode = dom.createElement('subnode')\n",
    "subnode.appendChild(dom.createTextNode(\"日本語もOK\"))\n",
    "# サブノートにattributeとvalueを設定\n",
    "subnode_attr = dom.createAttribute('key')\n",
    "subnode_attr.value = 'value'\n",
    "subnode.setAttributeNode(subnode_attr)\n",
    "# itemノードにsubnodeノードを追加\n",
    "item.appendChild(subnode)\n",
    "\n",
    "# domをxmlに変換して整形\n",
    "print (dom.toxml())"
   ]
  },
  {
   "cell_type": "code",
   "execution_count": 26,
   "metadata": {},
   "outputs": [
    {
     "name": "stdout",
     "output_type": "stream",
     "text": [
      "test\n"
     ]
    }
   ],
   "source": [
    "from xml.etree import ElementTree as ET\n",
    "\n",
    "xmlString = '''\n",
    "<window width=\"1920\">\n",
    "    <title font=\"large\" color=\"red\">sample</title>\n",
    "    <buttonbox>\n",
    "        <button>OK</button>\n",
    "        <button>Cancelキャンセル</button>\n",
    "    </buttonbox>\n",
    "</window>\n",
    "'''\n",
    "elm = ET.fromstring(xmlString)\n",
    "elm.find(\".//title\").text = 'test'\n",
    "\n",
    "tree = ET.ElementTree(elm)\n",
    "#tree.write('hoge.xml', encoding='UTF-8')\n",
    "tree.write('test.xml', 'UTF-8')\n",
    "print(tree.find(\".//title\").text)"
   ]
  },
  {
   "cell_type": "code",
   "execution_count": null,
   "metadata": {
    "collapsed": true
   },
   "outputs": [],
   "source": []
  }
 ],
 "metadata": {
  "kernelspec": {
   "display_name": "Python 3",
   "language": "python",
   "name": "python3"
  },
  "language_info": {
   "codemirror_mode": {
    "name": "ipython",
    "version": 3
   },
   "file_extension": ".py",
   "mimetype": "text/x-python",
   "name": "python",
   "nbconvert_exporter": "python",
   "pygments_lexer": "ipython3",
   "version": "3.6.3"
  }
 },
 "nbformat": 4,
 "nbformat_minor": 2
}
