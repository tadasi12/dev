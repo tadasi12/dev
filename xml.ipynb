{
 "cells": [
  {
   "cell_type": "code",
   "execution_count": 28,
   "metadata": {},
   "outputs": [
    {
     "name": "stdout",
     "output_type": "stream",
     "text": [
      "test\n"
     ]
    }
   ],
   "source": [
    "from xml.etree import ElementTree as ET\n",
    "\n",
    "xml = '''\n",
    "<window width=\"1920\">\n",
    "    <title font=\"large\" color=\"red\">sample</title>\n",
    "    <buttonbox>\n",
    "        <button>OK</button>\n",
    "        <button>Cancelキャンセル</button>\n",
    "    </buttonbox>\n",
    "</window>\n",
    "'''\n",
    "elm = ET.fromstring(xml)\n",
    "elm.find(\".//title\").text = 'test'\n",
    "print(tree.find(\".//title\").text)\n",
    "\n",
    "# ファイル保存\n",
    "tree = ET.ElementTree(elm)\n",
    "tree.write('test.xml', 'UTF-8')\n"
   ]
  },
  {
   "cell_type": "code",
   "execution_count": null,
   "metadata": {
    "collapsed": true
   },
   "outputs": [],
   "source": []
  }
 ],
 "metadata": {
  "kernelspec": {
   "display_name": "Python 3",
   "language": "python",
   "name": "python3"
  },
  "language_info": {
   "codemirror_mode": {
    "name": "ipython",
    "version": 3
   },
   "file_extension": ".py",
   "mimetype": "text/x-python",
   "name": "python",
   "nbconvert_exporter": "python",
   "pygments_lexer": "ipython3",
   "version": "3.6.3"
  }
 },
 "nbformat": 4,
 "nbformat_minor": 2
}
