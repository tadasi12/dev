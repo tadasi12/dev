{
 "cells": [
  {
   "cell_type": "markdown",
   "metadata": {},
   "source": [
    "# import"
   ]
  },
  {
   "cell_type": "code",
   "execution_count": 12,
   "metadata": {},
   "outputs": [],
   "source": [
    "from __future__ import print_function\n",
    "from keras.datasets import cifar10\n",
    "from keras.preprocessing.image import ImageDataGenerator\n",
    "from keras.utils import np_utils\n",
    "from keras.callbacks import ReduceLROnPlateau, CSVLogger, EarlyStopping\n",
    "\n",
    "import numpy as np\n",
    "import resnet\n",
    "from keras.models import load_model\n",
    "import glob\n",
    "from keras.preprocessing.image import array_to_img, img_to_array, load_img\n",
    "from sklearn.model_selection import train_test_split"
   ]
  },
  {
   "cell_type": "markdown",
   "metadata": {},
   "source": [
    "# define Paramater"
   ]
  },
  {
   "cell_type": "code",
   "execution_count": 40,
   "metadata": {},
   "outputs": [],
   "source": [
    "lr_reducer = ReduceLROnPlateau(factor=np.sqrt(0.1), cooldown=0, patience=5, min_lr=0.5e-6)\n",
    "early_stopper = EarlyStopping(min_delta=0.001, patience=10)\n",
    "csv_logger = CSVLogger('resnet18_cifar10.csv')\n",
    "\n",
    "batch_size = 8\n",
    "nb_classes = 2\n",
    "nb_epoch = 200\n",
    "data_augmentation = True\n",
    "\n",
    "# input image dimensions\n",
    "img_rows, img_cols = 32, 32\n",
    "# The CIFAR10 images are RGB.\n",
    "img_channels = 3"
   ]
  },
  {
   "cell_type": "markdown",
   "metadata": {},
   "source": [
    "# load dataset"
   ]
  },
  {
   "cell_type": "markdown",
   "metadata": {
    "heading_collapsed": true
   },
   "source": [
    "## cifar 10"
   ]
  },
  {
   "cell_type": "code",
   "execution_count": 33,
   "metadata": {
    "hidden": true
   },
   "outputs": [],
   "source": [
    "# input image dimensions\n",
    "img_rows, img_cols = 32, 32\n",
    "# The CIFAR10 images are RGB.\n",
    "img_channels = 3\n",
    "\n",
    "# The data, shuffled and split between train and test sets:\n",
    "(X_train, y_train), (X_test, y_test) = cifar10.load_data()\n",
    "\n",
    "# Convert class vectors to binary class matrices.\n",
    "Y_train = np_utils.to_categorical(y_train, nb_classes)\n",
    "Y_test = np_utils.to_categorical(y_test, nb_classes)\n",
    "\n",
    "X_train = X_train.astype('float32')\n",
    "X_test = X_test.astype('float32')\n",
    "\n",
    "# subtract mean and normalize\n",
    "# mean_image = np.mean(X_train, axis=0)\n",
    "# X_train -= mean_image\n",
    "# X_test -= mean_image\n",
    "# X_train /= 128.\n",
    "# X_test /= 128.\n",
    "X_train /= 256.\n",
    "X_test /= 256."
   ]
  },
  {
   "cell_type": "markdown",
   "metadata": {},
   "source": [
    "## original dataset"
   ]
  },
  {
   "cell_type": "code",
   "execution_count": 38,
   "metadata": {},
   "outputs": [
    {
     "name": "stderr",
     "output_type": "stream",
     "text": [
      "C:\\ProgramData\\Anaconda3\\lib\\site-packages\\PIL\\Image.py:953: UserWarning: Palette images with Transparency   expressed in bytes should be converted to RGBA images\n",
      "  'to RGBA images')\n"
     ]
    }
   ],
   "source": [
    "# フォルダの中にある画像を順次読み込む\n",
    "# カテゴリーは0から始める\n",
    "\n",
    "X = []\n",
    "Y = []\n",
    "\n",
    "path = 'C:/Users/shihnkawa/Pictures/ダウンロード/'\n",
    "\n",
    "# 対象Aの画像\n",
    "for picture in glob.glob(path+'orange/*.???'):\n",
    "    img = img_to_array(load_img(picture, target_size=(32,32)))\n",
    "    X.append(img)\n",
    "\n",
    "    Y.append(0)\n",
    "\n",
    "\n",
    "# 対象Bの画像\n",
    "for picture in glob.glob(path+'apple/*.???'):\n",
    "    img = img_to_array(load_img(picture, target_size=(32,32)))\n",
    "    X.append(img)\n",
    "\n",
    "    Y.append(1)\n",
    "\n",
    "\n",
    "# arrayに変換\n",
    "X = np.asarray(X)\n",
    "Y = np.asarray(Y)\n",
    "\n",
    "# 画素値を0から1の範囲に変換\n",
    "X = X.astype('float32')\n",
    "X = X / 255.0\n",
    "\n",
    "# クラスの形式を変換\n",
    "Y = np_utils.to_categorical(Y, 2)\n",
    "\n",
    "# 学習用データとテストデータ\n",
    "X_train, X_test, Y_train, Y_test = train_test_split(X, Y, test_size=0.33, random_state=111)\n"
   ]
  },
  {
   "cell_type": "markdown",
   "metadata": {},
   "source": [
    "# トレーニング"
   ]
  },
  {
   "cell_type": "code",
   "execution_count": 41,
   "metadata": {},
   "outputs": [
    {
     "name": "stdout",
     "output_type": "stream",
     "text": [
      "Using real-time data augmentation.\n"
     ]
    },
    {
     "name": "stderr",
     "output_type": "stream",
     "text": [
      "C:\\ProgramData\\Anaconda3\\lib\\site-packages\\ipykernel_launcher.py:39: UserWarning: Update your `fit_generator` call to the Keras 2 API: `fit_generator(<keras_pre..., steps_per_epoch=6, validation_data=(array([[[..., epochs=200, verbose=1, shuffle=True, callbacks=[<keras.ca..., max_queue_size=100)`\n"
     ]
    },
    {
     "name": "stdout",
     "output_type": "stream",
     "text": [
      "Epoch 1/200\n",
      "6/6 [==============================] - 243s 41s/step - loss: 1.4881 - acc: 0.8542 - val_loss: 9.9133 - val_acc: 0.4231\n",
      "Epoch 2/200\n",
      "6/6 [==============================] - 20s 3s/step - loss: 1.2838 - acc: 0.8512 - val_loss: 4.1360 - val_acc: 0.5385\n",
      "Epoch 3/200\n",
      "6/6 [==============================] - 36s 6s/step - loss: 0.8463 - acc: 0.9575 - val_loss: 1.9314 - val_acc: 0.7692\n",
      "Epoch 4/200\n",
      "6/6 [==============================] - 19s 3s/step - loss: 1.4134 - acc: 0.7653 - val_loss: 1.4620 - val_acc: 0.7692\n",
      "Epoch 5/200\n",
      "6/6 [==============================] - 22s 4s/step - loss: 0.9261 - acc: 0.9252 - val_loss: 2.6885 - val_acc: 0.6538\n",
      "Epoch 6/200\n",
      "6/6 [==============================] - 19s 3s/step - loss: 0.8949 - acc: 0.8937 - val_loss: 4.7395 - val_acc: 0.4231\n",
      "Epoch 7/200\n",
      "6/6 [==============================] - 22s 4s/step - loss: 0.7439 - acc: 0.9787 - val_loss: 4.3341 - val_acc: 0.4231\n",
      "Epoch 8/200\n",
      "6/6 [==============================] - 19s 3s/step - loss: 1.1073 - acc: 0.8125 - val_loss: 1.3377 - val_acc: 0.7308\n",
      "Epoch 9/200\n",
      "6/6 [==============================] - 24s 4s/step - loss: 0.8070 - acc: 0.9362 - val_loss: 1.7194 - val_acc: 0.6923\n",
      "Epoch 10/200\n",
      "6/6 [==============================] - 24s 4s/step - loss: 0.7472 - acc: 0.9787 - val_loss: 1.5543 - val_acc: 0.7308\n",
      "Epoch 11/200\n",
      "6/6 [==============================] - 28s 5s/step - loss: 0.7762 - acc: 0.9362 - val_loss: 2.6995 - val_acc: 0.5769\n",
      "Epoch 12/200\n",
      "6/6 [==============================] - 25s 4s/step - loss: 0.8016 - acc: 0.9362 - val_loss: 5.6045 - val_acc: 0.4231\n",
      "Epoch 13/200\n",
      "6/6 [==============================] - 14s 2s/step - loss: 0.7716 - acc: 0.9252 - val_loss: 8.6514 - val_acc: 0.4231\n",
      "Epoch 14/200\n",
      "6/6 [==============================] - 15s 3s/step - loss: 1.0691 - acc: 0.7653 - val_loss: 9.2516 - val_acc: 0.4231\n",
      "Epoch 15/200\n",
      "6/6 [==============================] - 16s 3s/step - loss: 1.0024 - acc: 0.8542 - val_loss: 9.3678 - val_acc: 0.4231\n",
      "Epoch 16/200\n",
      "6/6 [==============================] - 15s 2s/step - loss: 0.8694 - acc: 0.9150 - val_loss: 7.9153 - val_acc: 0.4231\n",
      "Epoch 17/200\n",
      "6/6 [==============================] - 16s 3s/step - loss: 0.7521 - acc: 0.9362 - val_loss: 8.4156 - val_acc: 0.4231\n",
      "Epoch 18/200\n",
      "6/6 [==============================] - 22s 4s/step - loss: 0.7108 - acc: 0.9787 - val_loss: 7.9354 - val_acc: 0.4231\n"
     ]
    }
   ],
   "source": [
    "model = resnet.ResnetBuilder.build_resnet_18((img_channels, img_rows, img_cols), nb_classes)\n",
    "model.compile(loss='categorical_crossentropy',\n",
    "              optimizer='adam',\n",
    "              metrics=['accuracy'])\n",
    "\n",
    "if not data_augmentation:\n",
    "    print('Not using data augmentation.')\n",
    "    model.fit(X_train, Y_train,\n",
    "              batch_size=batch_size,\n",
    "              nb_epoch=nb_epoch,\n",
    "              validation_data=(X_test, Y_test),\n",
    "              shuffle=True,\n",
    "              callbacks=[lr_reducer, early_stopper, csv_logger])\n",
    "else:\n",
    "    print('Using real-time data augmentation.')\n",
    "    # This will do preprocessing and realtime data augmentation:\n",
    "    datagen = ImageDataGenerator(\n",
    "        featurewise_center=True,  # set input mean to 0 over the dataset\n",
    "        samplewise_center=False,  # set each sample mean to 0\n",
    "        featurewise_std_normalization=False,  # divide inputs by std of the dataset\n",
    "        samplewise_std_normalization=False,  # divide each input by its std\n",
    "        zca_whitening=False,  # apply ZCA whitening\n",
    "        rotation_range=0,  # randomly rotate images in the range (degrees, 0 to 180)\n",
    "        width_shift_range=0.1,  # randomly shift images horizontally (fraction of total width)\n",
    "        height_shift_range=0.1,  # randomly shift images vertically (fraction of total height)\n",
    "        horizontal_flip=True,  # randomly flip images\n",
    "        vertical_flip=False)  # randomly flip images\n",
    "\n",
    "    # Compute quantities required for featurewise normalization\n",
    "    # (std, mean, and principal components if ZCA whitening is applied).\n",
    "    datagen.fit(X_train)\n",
    "\n",
    "    # Fit the model on the batches generated by datagen.flow().\n",
    "    model.fit_generator(datagen.flow(X_train, Y_train, batch_size=batch_size),\n",
    "                        steps_per_epoch=X_train.shape[0] // batch_size,\n",
    "                        validation_data=(X_test, Y_test),\n",
    "                        epochs=nb_epoch, verbose=1, max_q_size=100,\n",
    "                        shuffle=True,\n",
    "                        callbacks=[lr_reducer, early_stopper, csv_logger])"
   ]
  },
  {
   "cell_type": "code",
   "execution_count": 11,
   "metadata": {},
   "outputs": [
    {
     "data": {
      "image/png": "[encoded data removed]",
      "text/plain": [
       "<matplotlib.figure.Figure at 0x2693506ee80>"
      ]
     },
     "metadata": {},
     "output_type": "display_data"
    },
    {
     "data": {
      "text/plain": [
       "(<matplotlib.image.AxesImage at 0x2693c1de6a0>, None)"
      ]
     },
     "execution_count": 11,
     "metadata": {},
     "output_type": "execute_result"
    }
   ],
   "source": [
    "import matplotlib.pyplot as plt\n",
    "%matplotlib inline\n",
    "\n",
    "(X_train, y_train), (X_test, y_test) = cifar10.load_data()\n",
    "\n",
    "plt.imshow(X_train[0]),plt.show()"
   ]
  },
  {
   "cell_type": "code",
   "execution_count": 23,
   "metadata": {},
   "outputs": [
    {
     "data": {
      "image/png": "[encoded data removed]",
      "text/plain": [
       "<matplotlib.figure.Figure at 0x15bc27b48d0>"
      ]
     },
     "metadata": {},
     "output_type": "display_data"
    },
    {
     "data": {
      "text/plain": [
       "(<matplotlib.image.AxesImage at 0x15be4500ac8>, None)"
      ]
     },
     "execution_count": 23,
     "metadata": {},
     "output_type": "execute_result"
    }
   ],
   "source": [
    "import matplotlib.pyplot as plt\n",
    "%matplotlib inline\n",
    "plt.imshow(X_train[0]),plt.show()"
   ]
  },
  {
   "cell_type": "code",
   "execution_count": 13,
   "metadata": {},
   "outputs": [],
   "source": [
    "import numpy as np\n",
    "def zscore(x, axis = None):\n",
    "    xmean = x.mean(axis=axis, keepdims=True)\n",
    "    xstd  = np.std(x, axis=axis, keepdims=True)\n",
    "    zscore = (x-xmean)/xstd\n",
    "    return zscore\n",
    "\n",
    "# subtract mean and normalize\n",
    "mean_image = np.mean(X_train, axis=0)\n",
    "X_train -= mean_image\n",
    "X_test -= mean_image\n",
    "X_train /= 128.\n",
    "X_test /= 128.\n",
    "\n",
    "score = zscore(X_train[0])"
   ]
  },
  {
   "cell_type": "code",
   "execution_count": null,
   "metadata": {},
   "outputs": [],
   "source": []
  }
 ],
 "metadata": {
  "kernelspec": {
   "display_name": "Python 3",
   "language": "python",
   "name": "python3"
  },
  "language_info": {
   "codemirror_mode": {
    "name": "ipython",
    "version": 3
   },
   "file_extension": ".py",
   "mimetype": "text/x-python",
   "name": "python",
   "nbconvert_exporter": "python",
   "pygments_lexer": "ipython3",
   "version": "3.6.6"
  },
  "toc": {
   "base_numbering": 1,
   "nav_menu": {},
   "number_sections": true,
   "sideBar": true,
   "skip_h1_title": false,
   "title_cell": "Table of Contents",
   "title_sidebar": "Contents",
   "toc_cell": false,
   "toc_position": {
    "height": "calc(100% - 180px)",
    "left": "10px",
    "top": "150px",
    "width": "273.2px"
   },
   "toc_section_display": true,
   "toc_window_display": false
  },
  "varInspector": {
   "cols": {
    "lenName": 16,
    "lenType": 16,
    "lenVar": 40
   },
   "kernels_config": {
    "python": {
     "delete_cmd_postfix": "",
     "delete_cmd_prefix": "del ",
     "library": "var_list.py",
     "varRefreshCmd": "print(var_dic_list())"
    },
    "r": {
     "delete_cmd_postfix": ") ",
     "delete_cmd_prefix": "rm(",
     "library": "var_list.r",
     "varRefreshCmd": "cat(var_dic_list()) "
    }
   },
   "types_to_exclude": [
    "module",
    "function",
    "builtin_function_or_method",
    "instance",
    "_Feature"
   ],
   "window_display": false
  }
 },
 "nbformat": 4,
 "nbformat_minor": 2
}
